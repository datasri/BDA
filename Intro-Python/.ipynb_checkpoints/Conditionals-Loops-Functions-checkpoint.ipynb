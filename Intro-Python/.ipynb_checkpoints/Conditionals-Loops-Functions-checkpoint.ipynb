{
 "cells": [
  {
   "cell_type": "markdown",
   "metadata": {},
   "source": [
    "# Conditionals, Loops, and Functions"
   ]
  },
  {
   "cell_type": "markdown",
   "metadata": {},
   "source": [
    "## Basic operators\n",
    "* = assignment\n",
    "* +addition\n",
    "* -substraction\n",
    "* / division\n",
    "* % remainder\n",
    "* // quotient\n",
    "* == equivalent\n",
    "* != not equivalent\n",
    "* <= for less than or equal to\n",
    "* **in, not in** checks for membership\n",
    "* **and** conditional operator\n",
    "* **or** cnditional operator"
   ]
  },
  {
   "cell_type": "markdown",
   "metadata": {},
   "source": [
    "## 1. Conditionals: if, if else, if elif, if elif else:"
   ]
  },
  {
   "cell_type": "code",
   "execution_count": 3,
   "metadata": {},
   "outputs": [
    {
     "name": "stdout",
     "output_type": "stream",
     "text": [
      "Hello\n"
     ]
    }
   ],
   "source": [
    "if 2 <4: \n",
    "    print (\"Hello\")"
   ]
  },
  {
   "cell_type": "code",
   "execution_count": 4,
   "metadata": {},
   "outputs": [
    {
     "name": "stdout",
     "output_type": "stream",
     "text": [
      "5 is Odd number\n"
     ]
    }
   ],
   "source": [
    "num = 5\n",
    "if (num % 2 == 0):\n",
    "    print (str(num) + ' is Even Number')\n",
    "else:\n",
    "    print (str(num) + ' is Odd number')"
   ]
  },
  {
   "cell_type": "code",
   "execution_count": 5,
   "metadata": {},
   "outputs": [
    {
     "name": "stdout",
     "output_type": "stream",
     "text": [
      "15\n"
     ]
    }
   ],
   "source": [
    "# lets look at an example with Movie ticket price conditions\n",
    "age = 25\n",
    "bday = False\n",
    "if (age < 4 or bday):\n",
    "    price = 0\n",
    "elif (age >= 4 and age <= 60):\n",
    "    price = 15\n",
    "else:\n",
    "    price = 5\n",
    "\n",
    "print (price)"
   ]
  },
  {
   "cell_type": "code",
   "execution_count": 6,
   "metadata": {},
   "outputs": [],
   "source": [
    "language_list = ['python', 'R', 'Java', 'C++']"
   ]
  },
  {
   "cell_type": "code",
   "execution_count": 7,
   "metadata": {},
   "outputs": [
    {
     "name": "stdout",
     "output_type": "stream",
     "text": [
      "R\n"
     ]
    }
   ],
   "source": [
    "language = 'R'\n",
    "if (language in language_list):\n",
    "    print (language)"
   ]
  },
  {
   "cell_type": "markdown",
   "metadata": {},
   "source": [
    "**if else in one line**\n",
    "* value1 if (condition) else value2**"
   ]
  },
  {
   "cell_type": "code",
   "execution_count": 9,
   "metadata": {},
   "outputs": [
    {
     "data": {
      "text/plain": [
       "'tesla'"
      ]
     },
     "execution_count": 9,
     "metadata": {},
     "output_type": "execute_result"
    }
   ],
   "source": [
    "\"tesla\" if (1<2) else \"everyone else\"  #  .... if (condition) else ....."
   ]
  },
  {
   "cell_type": "markdown",
   "metadata": {},
   "source": [
    "## 2. Loops: for, while"
   ]
  },
  {
   "cell_type": "markdown",
   "metadata": {},
   "source": [
    "### 2.1 for loop"
   ]
  },
  {
   "cell_type": "code",
   "execution_count": 10,
   "metadata": {},
   "outputs": [
    {
     "name": "stdout",
     "output_type": "stream",
     "text": [
      "0\n",
      "1\n",
      "2\n",
      "3\n",
      "4\n"
     ]
    }
   ],
   "source": [
    "for i in range(0,5):  # we can iterate directly over range\n",
    "        print (i)"
   ]
  },
  {
   "cell_type": "markdown",
   "metadata": {
    "collapsed": true
   },
   "source": [
    "**We can also iterate over lists, tuples, strings, and dictionaries**"
   ]
  },
  {
   "cell_type": "code",
   "execution_count": 14,
   "metadata": {},
   "outputs": [],
   "source": [
    "Emory_ECE = ['BI', 'Big Data Analytics', 'Cybersecurity', 'AI']"
   ]
  },
  {
   "cell_type": "code",
   "execution_count": 15,
   "metadata": {},
   "outputs": [
    {
     "name": "stdout",
     "output_type": "stream",
     "text": [
      "BI\n",
      "Big Data Analytics\n",
      "Cybersecurity\n",
      "AI\n"
     ]
    }
   ],
   "source": [
    "for program in Emory_ECE:\n",
    "    print (program)"
   ]
  },
  {
   "cell_type": "markdown",
   "metadata": {},
   "source": [
    "**combining loops with if else statements**"
   ]
  },
  {
   "cell_type": "code",
   "execution_count": 20,
   "metadata": {},
   "outputs": [
    {
     "name": "stdout",
     "output_type": "stream",
     "text": [
      "Emory currently offers: BI\n",
      "Emory currently offers: Big Data Analytics\n",
      "Cybersecurity starts in June 1 2019\n",
      "AI starts in June 22 2019\n"
     ]
    }
   ],
   "source": [
    "for program in Emory_ECE:\n",
    "    if (program == 'Cybersecurity'):      \n",
    "        print (str(program) + \" starts in June 1 2019\")\n",
    "    elif(program == 'AI'):\n",
    "        print (str(program) + \" starts in June 22 2019\")\n",
    "    else:\n",
    "        print ('Emory currently offers: ' + str(program))"
   ]
  },
  {
   "cell_type": "markdown",
   "metadata": {},
   "source": [
    "**Lists, tuples, dictionaries, strings are all iterables**"
   ]
  },
  {
   "cell_type": "code",
   "execution_count": 35,
   "metadata": {},
   "outputs": [],
   "source": [
    "my_list = [\"Elon Musk\", \"Steve Jobs\", \"Jeff Bezos\", \"Jensen Huang\", \"Larry Page\"]\n",
    "my_dict = {\"Elon Musk\":\"Tesla\", \"Steve Jobs\": \"Apple\", \"Jeff Bezos\": \"Amazon\", \"Jensen Huang\": \"Nvdia\", \"Larry Page\": \"Google\"}\n",
    "my_string = \"Innovation\""
   ]
  },
  {
   "cell_type": "code",
   "execution_count": 36,
   "metadata": {},
   "outputs": [
    {
     "name": "stdout",
     "output_type": "stream",
     "text": [
      "Elon Musk\n",
      "Steve Jobs\n",
      "Jeff Bezos\n",
      "Jensen Huang\n",
      "Larry Page\n"
     ]
    }
   ],
   "source": [
    "for ceo in my_list:\n",
    "    print (ceo)"
   ]
  },
  {
   "cell_type": "code",
   "execution_count": 37,
   "metadata": {},
   "outputs": [
    {
     "name": "stdout",
     "output_type": "stream",
     "text": [
      "Elon Musk\n",
      "Steve Jobs\n",
      "Jeff Bezos\n",
      "Jensen Huang\n",
      "Larry Page\n"
     ]
    }
   ],
   "source": [
    "for key in my_dict:\n",
    "    print (key) # by default, its iterating over keys."
   ]
  },
  {
   "cell_type": "code",
   "execution_count": 38,
   "metadata": {},
   "outputs": [
    {
     "name": "stdout",
     "output_type": "stream",
     "text": [
      "Tesla\n",
      "Apple\n",
      "Amazon\n",
      "Nvdia\n",
      "Google\n"
     ]
    }
   ],
   "source": [
    "for company in my_dict.values():\n",
    "    print (company)   # if we want to iterate over values"
   ]
  },
  {
   "cell_type": "code",
   "execution_count": 40,
   "metadata": {},
   "outputs": [
    {
     "name": "stdout",
     "output_type": "stream",
     "text": [
      "Elon Musk is the ceo of Tesla\n",
      "Steve Jobs is the ceo of Apple\n",
      "Jeff Bezos is the ceo of Amazon\n",
      "Jensen Huang is the ceo of Nvdia\n",
      "Larry Page is the ceo of Google\n"
     ]
    }
   ],
   "source": [
    "for ceo, comp in my_dict.items():\n",
    "    print (str(ceo) + \" is the ceo of \" +str(comp))"
   ]
  },
  {
   "cell_type": "code",
   "execution_count": 41,
   "metadata": {},
   "outputs": [
    {
     "name": "stdout",
     "output_type": "stream",
     "text": [
      "I\n",
      "n\n",
      "n\n",
      "o\n",
      "v\n",
      "a\n",
      "t\n",
      "i\n",
      "o\n",
      "n\n"
     ]
    }
   ],
   "source": [
    "for char in my_string:\n",
    "    print (char)"
   ]
  },
  {
   "cell_type": "markdown",
   "metadata": {},
   "source": [
    "### Input from user"
   ]
  },
  {
   "cell_type": "markdown",
   "metadata": {},
   "source": [
    "**sometimes in computer programs, we want input from users.**"
   ]
  },
  {
   "cell_type": "code",
   "execution_count": 42,
   "metadata": {},
   "outputs": [
    {
     "name": "stdout",
     "output_type": "stream",
     "text": [
      "Please enter your name: Superman\n",
      "Hello Superman\n"
     ]
    }
   ],
   "source": [
    "string = input(\"Please enter your name: \")\n",
    "print (\"Hello\", string)"
   ]
  },
  {
   "cell_type": "code",
   "execution_count": 43,
   "metadata": {},
   "outputs": [
    {
     "name": "stdout",
     "output_type": "stream",
     "text": [
      "please enter your hobbies: Flying, saving, loving\n",
      "My hobbies are Flying, saving, loving\n"
     ]
    }
   ],
   "source": [
    "string = input(\"please enter your hobbies: \")\n",
    "print (\"My hobbies are\", string)"
   ]
  },
  {
   "cell_type": "code",
   "execution_count": 44,
   "metadata": {},
   "outputs": [
    {
     "data": {
      "text/plain": [
       "'Flying, saving, loving'"
      ]
     },
     "execution_count": 44,
     "metadata": {},
     "output_type": "execute_result"
    }
   ],
   "source": [
    "string"
   ]
  },
  {
   "cell_type": "code",
   "execution_count": 48,
   "metadata": {},
   "outputs": [
    {
     "name": "stdout",
     "output_type": "stream",
     "text": [
      "some num: 8\n"
     ]
    },
    {
     "data": {
      "text/plain": [
       "str"
      ]
     },
     "execution_count": 48,
     "metadata": {},
     "output_type": "execute_result"
    }
   ],
   "source": [
    "s = input('some num: ') # by default it takes the input as a string\n",
    "type(s)"
   ]
  },
  {
   "cell_type": "markdown",
   "metadata": {},
   "source": [
    "### 2.2 while loop"
   ]
  },
  {
   "cell_type": "code",
   "execution_count": 49,
   "metadata": {},
   "outputs": [
    {
     "name": "stdout",
     "output_type": "stream",
     "text": [
      "the value of x is :5\n",
      "the value of x is :6\n",
      "the value of x is :7\n",
      "the value of x is :8\n",
      "the value of x is :9\n"
     ]
    }
   ],
   "source": [
    "x = 5\n",
    "while (x < 10): \n",
    "    print ('the value of x is :' + str(x))\n",
    "    x = x+1\n",
    "    "
   ]
  },
  {
   "cell_type": "code",
   "execution_count": 50,
   "metadata": {},
   "outputs": [
    {
     "name": "stdout",
     "output_type": "stream",
     "text": [
      "Lets play a word and character count game. Please enter a word: Superman\n",
      "Total number of characters in the word Superman are:  8\n",
      "Lets play a word and character count game. Please enter a word: love\n",
      "Total number of characters in the word love are:  4\n",
      "Lets play a word and character count game. Please enter a word: hate\n",
      "Total number of characters in the word hate are:  4\n",
      "Lets play a word and character count game. Please enter a word: quit\n"
     ]
    }
   ],
   "source": [
    "flag = True\n",
    "while(flag):\n",
    "    s = input(\"Lets play a word and character count game. Please enter a word: \")\n",
    "    if(s == \"quit\"): \n",
    "        flag = False\n",
    "        break\n",
    "    print (\"Total number of characters in the word \" + s + \" are: \", len(s))"
   ]
  },
  {
   "cell_type": "markdown",
   "metadata": {},
   "source": [
    "### 2.3 loop controls"
   ]
  },
  {
   "cell_type": "markdown",
   "metadata": {},
   "source": [
    "**break** to exit the loop"
   ]
  },
  {
   "cell_type": "code",
   "execution_count": 51,
   "metadata": {},
   "outputs": [
    {
     "name": "stdout",
     "output_type": "stream",
     "text": [
      "0\n",
      "1\n",
      "2\n",
      "3\n",
      "4\n"
     ]
    }
   ],
   "source": [
    "# break exits the for loop\n",
    "for i in range(100):\n",
    "    if (i > 4):\n",
    "        break\n",
    "    print (i)"
   ]
  },
  {
   "cell_type": "markdown",
   "metadata": {},
   "source": [
    "**continue** to skip an iteration"
   ]
  },
  {
   "cell_type": "code",
   "execution_count": 52,
   "metadata": {},
   "outputs": [
    {
     "name": "stdout",
     "output_type": "stream",
     "text": [
      "5\n",
      "6\n",
      "7\n",
      "8\n",
      "9\n"
     ]
    }
   ],
   "source": [
    "# continue terminates that particular iteration and goes to next iteration\n",
    "for i in range(10):\n",
    "    if (i < 5):\n",
    "        continue\n",
    "    print (i)"
   ]
  },
  {
   "cell_type": "markdown",
   "metadata": {},
   "source": [
    "### 2.4 comprehensions"
   ]
  },
  {
   "cell_type": "markdown",
   "metadata": {},
   "source": [
    "**List Comprehensions**"
   ]
  },
  {
   "cell_type": "code",
   "execution_count": 53,
   "metadata": {},
   "outputs": [
    {
     "data": {
      "text/plain": [
       "[0, 1, 2, 3, 4, 5, 6, 7, 8, 9]"
      ]
     },
     "execution_count": 53,
     "metadata": {},
     "output_type": "execute_result"
    }
   ],
   "source": [
    "# cleaner single line code for for loops\n",
    "[i for i in range(10)]\n"
   ]
  },
  {
   "cell_type": "code",
   "execution_count": 54,
   "metadata": {},
   "outputs": [
    {
     "data": {
      "text/plain": [
       "['BI', 'Big Data Analytics', 'Cybersecurity', 'AI']"
      ]
     },
     "execution_count": 54,
     "metadata": {},
     "output_type": "execute_result"
    }
   ],
   "source": [
    "Emory_ECE"
   ]
  },
  {
   "cell_type": "code",
   "execution_count": 55,
   "metadata": {},
   "outputs": [
    {
     "data": {
      "text/plain": [
       "['BI', 'Big Data Analytics', 'Cybersecurity', 'AI']"
      ]
     },
     "execution_count": 55,
     "metadata": {},
     "output_type": "execute_result"
    }
   ],
   "source": [
    "[program for program in Emory_ECE]"
   ]
  },
  {
   "cell_type": "code",
   "execution_count": 57,
   "metadata": {},
   "outputs": [
    {
     "name": "stdout",
     "output_type": "stream",
     "text": [
      "[0.0, 0.5, 1.0, 1.5, 2.0, 2.5, 3.0, 3.5, 4.0, 4.5]\n"
     ]
    }
   ],
   "source": [
    "divtwo = []\n",
    "for i in range(10):\n",
    "    divtwo.append(i/2)\n",
    "print (divtwo)"
   ]
  },
  {
   "cell_type": "code",
   "execution_count": 58,
   "metadata": {},
   "outputs": [
    {
     "data": {
      "text/plain": [
       "[0.0, 0.5, 1.0, 1.5, 2.0, 2.5, 3.0, 3.5, 4.0, 4.5]"
      ]
     },
     "execution_count": 58,
     "metadata": {},
     "output_type": "execute_result"
    }
   ],
   "source": [
    "[i/2 for i in range(10)]"
   ]
  },
  {
   "cell_type": "code",
   "execution_count": 59,
   "metadata": {},
   "outputs": [
    {
     "data": {
      "text/plain": [
       "{'a': 2, 'b': 3, 'c': 9, 'd': 2, 'e': 1}"
      ]
     },
     "execution_count": 59,
     "metadata": {},
     "output_type": "execute_result"
    }
   ],
   "source": [
    "d = dict([(\"a\", 2), (\"b\",3), (\"c\", 9), (\"d\",2), (\"e\", 1)])\n",
    "d"
   ]
  },
  {
   "cell_type": "code",
   "execution_count": 60,
   "metadata": {},
   "outputs": [
    {
     "data": {
      "text/plain": [
       "['a', 'b', 'd', 'e']"
      ]
     },
     "execution_count": 60,
     "metadata": {},
     "output_type": "execute_result"
    }
   ],
   "source": [
    "[k for k,v in d.items() if v < 4] # get keys from values by looping on both keys and values"
   ]
  },
  {
   "cell_type": "markdown",
   "metadata": {},
   "source": [
    "**Dictionary comprehension**"
   ]
  },
  {
   "cell_type": "code",
   "execution_count": 61,
   "metadata": {},
   "outputs": [
    {
     "data": {
      "text/plain": [
       "{'a': 2, 'b': 3, 'd': 2, 'e': 1}"
      ]
     },
     "execution_count": 61,
     "metadata": {},
     "output_type": "execute_result"
    }
   ],
   "source": [
    "{k:v for k,v in d.items() if v < 4} # get only those dictionary pairs, where the value is less than 4"
   ]
  },
  {
   "cell_type": "markdown",
   "metadata": {},
   "source": [
    "**Tuple unpacking**"
   ]
  },
  {
   "cell_type": "code",
   "execution_count": 62,
   "metadata": {},
   "outputs": [],
   "source": [
    "l = [(1,3), (4,6), (7,9)]"
   ]
  },
  {
   "cell_type": "code",
   "execution_count": 63,
   "metadata": {},
   "outputs": [
    {
     "data": {
      "text/plain": [
       "[(1, 3), (4, 6), (7, 9)]"
      ]
     },
     "execution_count": 63,
     "metadata": {},
     "output_type": "execute_result"
    }
   ],
   "source": [
    "l"
   ]
  },
  {
   "cell_type": "code",
   "execution_count": 64,
   "metadata": {},
   "outputs": [
    {
     "name": "stdout",
     "output_type": "stream",
     "text": [
      "(1, 3)\n",
      "(4, 6)\n",
      "(7, 9)\n"
     ]
    }
   ],
   "source": [
    "for el in l:\n",
    "    print (el)"
   ]
  },
  {
   "cell_type": "code",
   "execution_count": 66,
   "metadata": {},
   "outputs": [
    {
     "name": "stdout",
     "output_type": "stream",
     "text": [
      "1\n",
      "4\n",
      "7\n"
     ]
    }
   ],
   "source": [
    "for a,b in l:\n",
    "    print (a)"
   ]
  },
  {
   "cell_type": "code",
   "execution_count": 67,
   "metadata": {},
   "outputs": [
    {
     "data": {
      "text/plain": [
       "[1, 4, 7]"
      ]
     },
     "execution_count": 67,
     "metadata": {},
     "output_type": "execute_result"
    }
   ],
   "source": [
    "[a for a,b in l]"
   ]
  },
  {
   "cell_type": "markdown",
   "metadata": {
    "collapsed": true
   },
   "source": [
    "**Some very useful functions**\n",
    "* map\n",
    "* lambda\n",
    "* zip\n",
    "* filter"
   ]
  },
  {
   "cell_type": "markdown",
   "metadata": {},
   "source": [
    "### map"
   ]
  },
  {
   "cell_type": "code",
   "execution_count": 68,
   "metadata": {},
   "outputs": [
    {
     "data": {
      "text/plain": [
       "[1, 2, 3, 4, 5]"
      ]
     },
     "execution_count": 68,
     "metadata": {},
     "output_type": "execute_result"
    }
   ],
   "source": [
    "lnum = [1,-2,3,-4,5]   # use map if we want apply a function over all the elements of a list or tuple\n",
    "list (map(abs, lnum))"
   ]
  },
  {
   "cell_type": "markdown",
   "metadata": {},
   "source": [
    "### lambda"
   ]
  },
  {
   "cell_type": "code",
   "execution_count": 69,
   "metadata": {},
   "outputs": [
    {
     "data": {
      "text/plain": [
       "[1, -8, 27, -64, 125]"
      ]
     },
     "execution_count": 69,
     "metadata": {},
     "output_type": "execute_result"
    }
   ],
   "source": [
    "# Instead of havign a pre-existing function, we can have a function on the go with lambda list\n",
    "list(map(lambda var: var**3, lnum))\n",
    "# lambda var: var**3 is a function we wrote on the go. This function is executed on every element of list l"
   ]
  },
  {
   "cell_type": "markdown",
   "metadata": {},
   "source": [
    "### filter "
   ]
  },
  {
   "cell_type": "code",
   "execution_count": 70,
   "metadata": {},
   "outputs": [
    {
     "data": {
      "text/plain": [
       "[1, -2, -4]"
      ]
     },
     "execution_count": 70,
     "metadata": {},
     "output_type": "execute_result"
    }
   ],
   "source": [
    "# Similar to map . It also uses a function. But this function should return boolean values \n",
    "# and based on these, the filter will return only those elements for which the function evaluates True\n",
    "list(filter(lambda var: var < 2, lnum))"
   ]
  }
 ],
 "metadata": {
  "kernelspec": {
   "display_name": "Python 3",
   "language": "python",
   "name": "python3"
  },
  "language_info": {
   "codemirror_mode": {
    "name": "ipython",
    "version": 3
   },
   "file_extension": ".py",
   "mimetype": "text/x-python",
   "name": "python",
   "nbconvert_exporter": "python",
   "pygments_lexer": "ipython3",
   "version": "3.7.1"
  }
 },
 "nbformat": 4,
 "nbformat_minor": 2
}
