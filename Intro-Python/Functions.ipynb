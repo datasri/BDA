{
 "cells": [
  {
   "cell_type": "markdown",
   "metadata": {},
   "source": [
    "# Functions\n",
    "* If there is any part of the code that needs to be used again and again try using functions\n",
    "* Functions simplify the program organization\n",
    "* cleaner code"
   ]
  },
  {
   "cell_type": "markdown",
   "metadata": {},
   "source": [
    "### 1. **Basic proceedure to define a function**"
   ]
  },
  {
   "cell_type": "raw",
   "metadata": {},
   "source": [
    "def function_name(arguments):\n",
    "    \"\"\" Doc string that explains what the function does\"\"\"\n",
    "    ....\n",
    "    ....\n",
    "    return         "
   ]
  },
  {
   "cell_type": "raw",
   "metadata": {},
   "source": [
    "function_name(arguments) "
   ]
  },
  {
   "cell_type": "code",
   "execution_count": 1,
   "metadata": {},
   "outputs": [],
   "source": [
    "# simple function with no arguments\n",
    "def welcome():  \n",
    "    print (\"Welcome to Emory Big Data Program!. Hope you are enjoying!\")"
   ]
  },
  {
   "cell_type": "code",
   "execution_count": 3,
   "metadata": {},
   "outputs": [
    {
     "name": "stdout",
     "output_type": "stream",
     "text": [
      "Welcome to Emory Big Data Program!. Hope you are enjoying!\n",
      "Welcome to Emory Big Data Program!. Hope you are enjoying!\n"
     ]
    }
   ],
   "source": [
    "welcome()\n",
    "welcome()"
   ]
  },
  {
   "cell_type": "code",
   "execution_count": 4,
   "metadata": {},
   "outputs": [],
   "source": [
    "def print_numbers(n):\n",
    "    for i in range(n+1):\n",
    "        print (i)"
   ]
  },
  {
   "cell_type": "code",
   "execution_count": 9,
   "metadata": {},
   "outputs": [
    {
     "name": "stdout",
     "output_type": "stream",
     "text": [
      "0\n",
      "1\n",
      "2\n",
      "3\n"
     ]
    }
   ],
   "source": [
    "print_numbers(3)"
   ]
  },
  {
   "cell_type": "code",
   "execution_count": 44,
   "metadata": {},
   "outputs": [],
   "source": [
    "def cube(n):\n",
    "    return(n**2) # return optional. depeneding on what we want."
   ]
  },
  {
   "cell_type": "code",
   "execution_count": 45,
   "metadata": {},
   "outputs": [
    {
     "data": {
      "text/plain": [
       "20"
      ]
     },
     "execution_count": 45,
     "metadata": {},
     "output_type": "execute_result"
    }
   ],
   "source": [
    "cube(3) + 2*(3) + 5"
   ]
  },
  {
   "cell_type": "code",
   "execution_count": 39,
   "metadata": {},
   "outputs": [],
   "source": [
    "var = cube(2)"
   ]
  },
  {
   "cell_type": "code",
   "execution_count": 40,
   "metadata": {},
   "outputs": [],
   "source": [
    "def operations(a,b):\n",
    "    return [a+b, a-b, a*b, a/b] # returns only one object, but we can return lists, tuples, dictionaries anything we want"
   ]
  },
  {
   "cell_type": "code",
   "execution_count": 43,
   "metadata": {},
   "outputs": [
    {
     "data": {
      "text/plain": [
       "[9, -1, 20, 0.8]"
      ]
     },
     "execution_count": 43,
     "metadata": {},
     "output_type": "execute_result"
    }
   ],
   "source": [
    "list_op = operations(4,5)\n",
    "list_op"
   ]
  },
  {
   "cell_type": "markdown",
   "metadata": {},
   "source": [
    "### 2. **Function arguments can be positional, or keyword based**"
   ]
  },
  {
   "cell_type": "code",
   "execution_count": 46,
   "metadata": {},
   "outputs": [],
   "source": [
    "def get_sal(job, level = \"entry\"):\n",
    "    \"\"\" This function prints salaries for different emerging job roles\"\"\"\n",
    "    salary = {\"Cloud Engineer\":118, \"Software Developer\":104, \"Data Engineer\": 100, \n",
    "           \"Data Scientist\":120, \"AI Engineer\":140, \"Cybersecurity Engineer\": 116}\n",
    "\n",
    "    for k,v in salary.items():\n",
    "        if(level == \"entry\"):\n",
    "            salary[k] = v\n",
    "        elif(level == \"medium\"):\n",
    "            salary[k] = v + 20\n",
    "        else:\n",
    "            salary[k] = v+40       \n",
    "        \n",
    "    print (\"Salary of\", job, \"is\", salary[job])\n",
    "        "
   ]
  },
  {
   "cell_type": "code",
   "execution_count": null,
   "metadata": {},
   "outputs": [],
   "source": [
    "# get_sal() # shift+tab will show the doc string"
   ]
  },
  {
   "cell_type": "code",
   "execution_count": 48,
   "metadata": {},
   "outputs": [
    {
     "name": "stdout",
     "output_type": "stream",
     "text": [
      "Salary of Software Developer is 124\n"
     ]
    }
   ],
   "source": [
    "get_sal(\"Software Developer\", 'medium')  # when we assign default value to argument we have the option to not include it in the call"
   ]
  },
  {
   "cell_type": "code",
   "execution_count": 49,
   "metadata": {},
   "outputs": [
    {
     "name": "stdout",
     "output_type": "stream",
     "text": [
      "Salary of Software Developer is 144\n"
     ]
    }
   ],
   "source": [
    "get_sal(\"Software Developer\", level = \"expert\")"
   ]
  },
  {
   "cell_type": "code",
   "execution_count": 51,
   "metadata": {},
   "outputs": [
    {
     "ename": "KeyError",
     "evalue": "'medium'",
     "output_type": "error",
     "traceback": [
      "\u001b[1;31m---------------------------------------------------------------------------\u001b[0m",
      "\u001b[1;31mKeyError\u001b[0m                                  Traceback (most recent call last)",
      "\u001b[1;32m<ipython-input-51-54fd6d0df2d3>\u001b[0m in \u001b[0;36m<module>\u001b[1;34m\u001b[0m\n\u001b[1;32m----> 1\u001b[1;33m \u001b[0mget_sal\u001b[0m\u001b[1;33m(\u001b[0m\u001b[1;34m\"medium\"\u001b[0m\u001b[1;33m,\u001b[0m \u001b[1;34m\"Data Scientist\"\u001b[0m\u001b[1;33m)\u001b[0m\u001b[1;33m\u001b[0m\u001b[1;33m\u001b[0m\u001b[0m\n\u001b[0m",
      "\u001b[1;32m<ipython-input-46-2afbe58e812a>\u001b[0m in \u001b[0;36mget_sal\u001b[1;34m(job, level)\u001b[0m\n\u001b[0;32m     12\u001b[0m             \u001b[0msalary\u001b[0m\u001b[1;33m[\u001b[0m\u001b[0mk\u001b[0m\u001b[1;33m]\u001b[0m \u001b[1;33m=\u001b[0m \u001b[0mv\u001b[0m\u001b[1;33m+\u001b[0m\u001b[1;36m40\u001b[0m\u001b[1;33m\u001b[0m\u001b[1;33m\u001b[0m\u001b[0m\n\u001b[0;32m     13\u001b[0m \u001b[1;33m\u001b[0m\u001b[0m\n\u001b[1;32m---> 14\u001b[1;33m     \u001b[0mprint\u001b[0m \u001b[1;33m(\u001b[0m\u001b[1;34m\"Salary of\"\u001b[0m\u001b[1;33m,\u001b[0m \u001b[0mjob\u001b[0m\u001b[1;33m,\u001b[0m \u001b[1;34m\"is\"\u001b[0m\u001b[1;33m,\u001b[0m \u001b[0msalary\u001b[0m\u001b[1;33m[\u001b[0m\u001b[0mjob\u001b[0m\u001b[1;33m]\u001b[0m\u001b[1;33m)\u001b[0m\u001b[1;33m\u001b[0m\u001b[1;33m\u001b[0m\u001b[0m\n\u001b[0m\u001b[0;32m     15\u001b[0m \u001b[1;33m\u001b[0m\u001b[0m\n",
      "\u001b[1;31mKeyError\u001b[0m: 'medium'"
     ]
    }
   ],
   "source": [
    "get_sal(\"medium\", \"Data Scientist\")"
   ]
  },
  {
   "cell_type": "code",
   "execution_count": 52,
   "metadata": {},
   "outputs": [
    {
     "name": "stdout",
     "output_type": "stream",
     "text": [
      "Salary of Data Scientist is 140\n"
     ]
    }
   ],
   "source": [
    "get_sal(level=\"medium\", job = \"Data Scientist\") # safe to use keyword arguments."
   ]
  },
  {
   "cell_type": "code",
   "execution_count": 53,
   "metadata": {},
   "outputs": [
    {
     "name": "stdout",
     "output_type": "stream",
     "text": [
      "Salary of AI Engineer is 160\n"
     ]
    }
   ],
   "source": [
    "get_sal(\"AI Engineer\", \"medium\")"
   ]
  },
  {
   "cell_type": "markdown",
   "metadata": {},
   "source": [
    "### 3. Functions with Optional argument, \" \""
   ]
  },
  {
   "cell_type": "code",
   "execution_count": null,
   "metadata": {},
   "outputs": [],
   "source": [
    "def get_sal2(job, level = \" \"):  # we can make an argument optional\n",
    "    \"\"\" This function prints salaries for different emerging job roles\"\"\"\n",
    "    salary = {\"Cloud Engineer\":118, \"Software Developer\":104, \"Data Engineer\": 100, \n",
    "           \"Data Scientist\":120, \"AI Engineer\":140, \"Cybersecurity Engineer\": 116}\n",
    "\n",
    "    for k,v in salary.items():\n",
    "        if(level == \"entry\"):\n",
    "            salary[k] = v\n",
    "        elif(level == \"medium\"):\n",
    "            salary[k] = v + 20\n",
    "        else:\n",
    "            salary[k] = v+40       \n",
    "        \n",
    "    print (\"Salary of\", job, \"is\", salary[job])"
   ]
  },
  {
   "cell_type": "code",
   "execution_count": null,
   "metadata": {},
   "outputs": [],
   "source": [
    "get_sal2(\"Data Engineer\")"
   ]
  },
  {
   "cell_type": "markdown",
   "metadata": {},
   "source": [
    "### 4. Lists and Dictionaries can also be passed as arguments*"
   ]
  },
  {
   "cell_type": "code",
   "execution_count": 54,
   "metadata": {},
   "outputs": [],
   "source": [
    "def cube(alist):\n",
    "    cubelist = [i**3 for i in alist]\n",
    "    return cubelist"
   ]
  },
  {
   "cell_type": "code",
   "execution_count": 55,
   "metadata": {},
   "outputs": [
    {
     "data": {
      "text/plain": [
       "[1, 8, 27, 64]"
      ]
     },
     "execution_count": 55,
     "metadata": {},
     "output_type": "execute_result"
    }
   ],
   "source": [
    "cube([1,2,3,4])"
   ]
  },
  {
   "cell_type": "markdown",
   "metadata": {},
   "source": [
    "### 5. Arbitrary number of arugments"
   ]
  },
  {
   "cell_type": "code",
   "execution_count": 56,
   "metadata": {},
   "outputs": [],
   "source": [
    "def greet_enroll(*names):\n",
    "    print (\"Good Evening\")\n",
    "    for name in names:\n",
    "        print (\"Hello\", name)"
   ]
  },
  {
   "cell_type": "code",
   "execution_count": 57,
   "metadata": {},
   "outputs": [
    {
     "name": "stdout",
     "output_type": "stream",
     "text": [
      "Good Evening\n",
      "Hello John\n"
     ]
    }
   ],
   "source": [
    "greet_enroll(\"John\")"
   ]
  },
  {
   "cell_type": "code",
   "execution_count": 58,
   "metadata": {},
   "outputs": [
    {
     "name": "stdout",
     "output_type": "stream",
     "text": [
      "Good Evening\n",
      "Hello john\n",
      "Hello tom\n",
      "Hello ram\n",
      "Hello james\n"
     ]
    }
   ],
   "source": [
    "greet_enroll(\"john\", \"tom\", \"ram\", \"james\")"
   ]
  },
  {
   "cell_type": "markdown",
   "metadata": {},
   "source": [
    "### 6. Some very useful functions\n",
    "* map(function, iterable) -  applies a function over each element of an iterable\n",
    "* lambda x:x**2 - functions on the go\n",
    "* zip(iterabl1, iterable2) - gathers elements from each iterable into tuple\n",
    "* filter"
   ]
  },
  {
   "cell_type": "markdown",
   "metadata": {},
   "source": [
    "**map** "
   ]
  },
  {
   "cell_type": "code",
   "execution_count": null,
   "metadata": {},
   "outputs": [],
   "source": [
    "al = [1,-3,4,-5,7]\n",
    "list(map(abs, al)) # We can use map to apply a function over each element of a list"
   ]
  },
  {
   "cell_type": "markdown",
   "metadata": {},
   "source": [
    "**lambda**"
   ]
  },
  {
   "cell_type": "code",
   "execution_count": null,
   "metadata": {},
   "outputs": [],
   "source": [
    "# lambda is basically functions on the go\n",
    "# Ex: lambda x:x**2 "
   ]
  },
  {
   "cell_type": "code",
   "execution_count": null,
   "metadata": {},
   "outputs": [],
   "source": [
    "list(map(lambda x:x**2, al))"
   ]
  },
  {
   "cell_type": "markdown",
   "metadata": {},
   "source": [
    "**zip**"
   ]
  },
  {
   "cell_type": "code",
   "execution_count": null,
   "metadata": {},
   "outputs": [],
   "source": [
    "l1 = [\"a\", \"b\", \"c\", \"d\"]\n",
    "l2 = [1,2,3,4]\n",
    "list(zip(l1,l2)) # zip aggregates elements from each of the iterables into tuples"
   ]
  },
  {
   "cell_type": "markdown",
   "metadata": {},
   "source": [
    "**filter**"
   ]
  },
  {
   "cell_type": "code",
   "execution_count": null,
   "metadata": {},
   "outputs": [],
   "source": [
    "al"
   ]
  },
  {
   "cell_type": "code",
   "execution_count": null,
   "metadata": {},
   "outputs": [],
   "source": [
    "# Similar to map . It also uses a function. But this function should return boolean values \n",
    "# and based on these, the filter will return only those elements for which the function evaluates True\n",
    "list(filter(lambda var: var < 2, al))"
   ]
  },
  {
   "cell_type": "markdown",
   "metadata": {},
   "source": [
    "**There are several built-in functions in core python**\n",
    "* https://docs.python.org/3/library/functions.html"
   ]
  }
 ],
 "metadata": {
  "kernelspec": {
   "display_name": "Python 3",
   "language": "python",
   "name": "python3"
  },
  "language_info": {
   "codemirror_mode": {
    "name": "ipython",
    "version": 3
   },
   "file_extension": ".py",
   "mimetype": "text/x-python",
   "name": "python",
   "nbconvert_exporter": "python",
   "pygments_lexer": "ipython3",
   "version": "3.7.1"
  }
 },
 "nbformat": 4,
 "nbformat_minor": 2
}
