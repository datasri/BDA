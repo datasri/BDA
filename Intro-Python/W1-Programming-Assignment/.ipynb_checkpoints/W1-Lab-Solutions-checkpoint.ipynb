{
 "cells": [
  {
   "cell_type": "markdown",
   "metadata": {},
   "source": [
    "# Assignment 1 - Solutions"
   ]
  },
  {
   "cell_type": "markdown",
   "metadata": {},
   "source": [
    "### 1. Write a function that takes in a long string and prints back the words in string in reverse order"
   ]
  },
  {
   "cell_type": "code",
   "execution_count": 43,
   "metadata": {},
   "outputs": [],
   "source": [
    "def rev_string():\n",
    "    \"\"\" This function takes a string and returns a list with the words in sentence in reverse order\"\"\"\n",
    "    s = input(\"Please enter a sentence (no quotes): \")\n",
    "\n",
    "    return s.split()[::-1]"
   ]
  },
  {
   "cell_type": "code",
   "execution_count": 44,
   "metadata": {},
   "outputs": [
    {
     "name": "stdout",
     "output_type": "stream",
     "text": [
      "Please enter a sentence (no quotes): May The Force Be With You\n"
     ]
    },
    {
     "data": {
      "text/plain": [
       "['You', 'With', 'Be', 'Force', 'The', 'May']"
      ]
     },
     "execution_count": 44,
     "metadata": {},
     "output_type": "execute_result"
    }
   ],
   "source": [
    "rev_string()"
   ]
  },
  {
   "cell_type": "markdown",
   "metadata": {},
   "source": [
    "### 2. Write a Function for getting all the even numbers and odd numbers  from 1 to 'n' numbers"
   ]
  },
  {
   "cell_type": "code",
   "execution_count": 45,
   "metadata": {},
   "outputs": [],
   "source": [
    "def even_odd(n):\n",
    "    even = []\n",
    "    odd = []\n",
    "    for i in range(1, n+1):\n",
    "        if (i % 2 == 0):\n",
    "            even.append(i)\n",
    "        else:\n",
    "            odd.append(i)\n",
    "    print (\"Even numbers are: \", even)\n",
    "    print (\"Odd numbers are: \", odd)"
   ]
  },
  {
   "cell_type": "code",
   "execution_count": 46,
   "metadata": {},
   "outputs": [
    {
     "name": "stdout",
     "output_type": "stream",
     "text": [
      "Even numbers are:  [2, 4, 6, 8, 10]\n",
      "Odd numbers are:  [1, 3, 5, 7, 9]\n"
     ]
    }
   ],
   "source": [
    "even_odd(10)"
   ]
  },
  {
   "cell_type": "markdown",
   "metadata": {},
   "source": [
    "### 3. Write a function for getting all prime numbers from 2 to n numbers"
   ]
  },
  {
   "cell_type": "code",
   "execution_count": 47,
   "metadata": {},
   "outputs": [],
   "source": [
    "def prime(n):\n",
    "    composite = []\n",
    "    for num in range(2, n+1):\n",
    "        for i in range(2,num+1):\n",
    "            if (num % i == 0 and i != num):\n",
    "                composite.append(num)\n",
    "                break\n",
    "    prime = list(set(range(2,n+1))-set(composite))\n",
    "    prime.sort()\n",
    "    \n",
    "    print(\"Prime Numbers are: \", prime)\n",
    "    print (\"Composite Numbers are: \", composite)"
   ]
  },
  {
   "cell_type": "code",
   "execution_count": 48,
   "metadata": {},
   "outputs": [
    {
     "name": "stdout",
     "output_type": "stream",
     "text": [
      "Prime Numbers are:  [2, 3, 5, 7, 11, 13, 17, 19]\n",
      "Composite Numbers are:  [4, 6, 8, 9, 10, 12, 14, 15, 16, 18, 20]\n"
     ]
    }
   ],
   "source": [
    "prime(20)"
   ]
  },
  {
   "cell_type": "markdown",
   "metadata": {},
   "source": [
    "### 4. Write a function to get 'n' Fibonacci Numbers"
   ]
  },
  {
   "cell_type": "code",
   "execution_count": 49,
   "metadata": {},
   "outputs": [],
   "source": [
    "def fibonacci(n):\n",
    "    fn = []\n",
    "    fn.append(0)\n",
    "    fn.append(1)\n",
    "    for num in range(2,n):\n",
    "        fn.append(fn[num-1] + fn[num-2])\n",
    "    \n",
    "    print (\"Fibonacci Numbers are: \", fn)"
   ]
  },
  {
   "cell_type": "code",
   "execution_count": 50,
   "metadata": {},
   "outputs": [
    {
     "name": "stdout",
     "output_type": "stream",
     "text": [
      "Fibonacci Numbers are:  [0, 1, 1, 2, 3, 5, 8, 13, 21, 34, 55, 89, 144]\n"
     ]
    }
   ],
   "source": [
    "fibonacci(13)"
   ]
  },
  {
   "cell_type": "markdown",
   "metadata": {},
   "source": [
    "### 5. Write a function that develops a guessing game"
   ]
  },
  {
   "cell_type": "code",
   "execution_count": 54,
   "metadata": {},
   "outputs": [],
   "source": [
    "def guess():\n",
    "    \n",
    "    import random\n",
    "    \n",
    "    s = random.randint(1,10)\n",
    "\n",
    "    g = int(input(\"You have total 3 guesses. Please enter your guess: \"))\n",
    "\n",
    "    ng = 1\n",
    "    \n",
    "    while(g != \"quit\" and ng <= 3):\n",
    "        \n",
    "        if(g == s):\n",
    "            print (\"Congrats!\" + \" You have won the game in \" +  str(ng) + \" guesses.\" + \"Correct number is indeed: \" +str(s))    \n",
    "            break\n",
    "        \n",
    "        if (ng == 3):\n",
    "                print (\"You have run out of guesses. Correct number is: \", s)\n",
    "                break\n",
    "                \n",
    "        if(g < s):\n",
    "            hint = \"Guess higher\"\n",
    "        else:\n",
    "            hint = \"Guess lower\"\n",
    "            \n",
    "        g = int(input(\"Incorrect.  \" + hint + \": You now have only \" + str(3-ng) + \" guesses. \" + \"Please guess again: \" ))\n",
    "\n",
    "        ng  = ng+1\n"
   ]
  },
  {
   "cell_type": "code",
   "execution_count": 53,
   "metadata": {},
   "outputs": [
    {
     "name": "stdout",
     "output_type": "stream",
     "text": [
      "You have total 3 guesses. Please enter your guess: 5\n",
      "Incorrect.  Guess lower: You now have only 2 guesses. Please guess again: 3\n",
      "Congrats!you have won the game in 2 guesses.Correct number is indeed: 3\n"
     ]
    }
   ],
   "source": [
    "guess()"
   ]
  }
 ],
 "metadata": {
  "kernelspec": {
   "display_name": "Python 3",
   "language": "python",
   "name": "python3"
  },
  "language_info": {
   "codemirror_mode": {
    "name": "ipython",
    "version": 3
   },
   "file_extension": ".py",
   "mimetype": "text/x-python",
   "name": "python",
   "nbconvert_exporter": "python",
   "pygments_lexer": "ipython3",
   "version": "3.7.1"
  }
 },
 "nbformat": 4,
 "nbformat_minor": 2
}
