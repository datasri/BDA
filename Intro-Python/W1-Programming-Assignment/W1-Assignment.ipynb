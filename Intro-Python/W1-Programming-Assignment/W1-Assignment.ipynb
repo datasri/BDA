{
 "cells": [
  {
   "cell_type": "markdown",
   "metadata": {},
   "source": [
    "## Optional Assignment - Week1"
   ]
  },
  {
   "cell_type": "markdown",
   "metadata": {},
   "source": [
    "### 1. Write a function that takes in a long string and prints back the words in string in reverse order"
   ]
  },
  {
   "cell_type": "code",
   "execution_count": 16,
   "metadata": {},
   "outputs": [],
   "source": [
    "def rev_string():\n",
    "    \"\"\" This function takes a string and returns a list with the words in sentence in reverse order.\n",
    "        Computer should first prompt the user to \"Please enter a sentence\" as shown below. When the user enters any sentence\n",
    "        it should print all the words in the senetence in reverse order as a list\"\"\"\n",
    "    # Your code\n",
    "\n",
    "    return # Your code"
   ]
  },
  {
   "cell_type": "code",
   "execution_count": 17,
   "metadata": {},
   "outputs": [
    {
     "name": "stdout",
     "output_type": "stream",
     "text": [
      "Please enter a sentence (no quotes): May The Force Be With You\n"
     ]
    },
    {
     "data": {
      "text/plain": [
       "['You', 'With', 'Be', 'Force', 'The', 'May']"
      ]
     },
     "execution_count": 17,
     "metadata": {},
     "output_type": "execute_result"
    }
   ],
   "source": [
    "rev_string() # your code should result in a list output (see below)"
   ]
  },
  {
   "cell_type": "markdown",
   "metadata": {},
   "source": [
    "### 2. Write a Function for getting all the even numbers and odd numbers  from 1 to 'n' numbers"
   ]
  },
  {
   "cell_type": "code",
   "execution_count": 1,
   "metadata": {},
   "outputs": [],
   "source": [
    "def even_odd(n):\n",
    "    \"\"\" This function generates even and odd numbers. \n",
    "    When the function is called it should print even and odd numbers \"\"\"\n",
    "    \n",
    "    # Your code here. \n",
    "    "
   ]
  },
  {
   "cell_type": "code",
   "execution_count": 42,
   "metadata": {},
   "outputs": [
    {
     "name": "stdout",
     "output_type": "stream",
     "text": [
      "Even numbers are:  [2, 4, 6, 8, 10]\n",
      "Odd numbers are:  [1, 3, 5, 7, 9]\n"
     ]
    }
   ],
   "source": [
    "even_odd(10)"
   ]
  },
  {
   "cell_type": "markdown",
   "metadata": {},
   "source": [
    "### 3. Write a function for getting all prime and composite numbers from 2 to n numbers"
   ]
  },
  {
   "cell_type": "code",
   "execution_count": 7,
   "metadata": {},
   "outputs": [],
   "source": [
    "def prime_composite(n):\n",
    "    composite = []\n",
    "    \"\"\" This function should generate prime and composite numbers.\n",
    "        It should return a tuple of 2 lists. one list is for prime numbers, and the other for composite numbers\"\"\"\n",
    "    \n",
    "    # your code here\n",
    "\n",
    "    return (prime, composite)"
   ]
  },
  {
   "cell_type": "code",
   "execution_count": 8,
   "metadata": {},
   "outputs": [
    {
     "data": {
      "text/plain": [
       "([2, 3, 5, 7, 11, 13, 17, 19], [4, 6, 8, 9, 10, 12, 14, 15, 16, 18, 20])"
      ]
     },
     "execution_count": 8,
     "metadata": {},
     "output_type": "execute_result"
    }
   ],
   "source": [
    "prime_composite(20)"
   ]
  },
  {
   "cell_type": "markdown",
   "metadata": {},
   "source": [
    "### 4. Write a function to get 'n' Fibonacci Numbers"
   ]
  },
  {
   "cell_type": "code",
   "execution_count": 11,
   "metadata": {},
   "outputs": [],
   "source": [
    "def fibonacci(n):\n",
    "    \"\"\" This function should generate Fibonacci numbers.\"\"\"\n",
    "    \n",
    "    # your code here\n",
    "    \n",
    "\n",
    "    return # your code. it should return a list of fibonacci numbers."
   ]
  },
  {
   "cell_type": "code",
   "execution_count": 12,
   "metadata": {},
   "outputs": [
    {
     "data": {
      "text/plain": [
       "[0, 1, 1, 2, 3, 5, 8, 13, 21, 34, 55, 89, 144]"
      ]
     },
     "execution_count": 12,
     "metadata": {},
     "output_type": "execute_result"
    }
   ],
   "source": [
    "fibonacci(13)"
   ]
  },
  {
   "cell_type": "markdown",
   "metadata": {},
   "source": [
    "### 5. Write a function that develops a guessing game"
   ]
  },
  {
   "cell_type": "code",
   "execution_count": 18,
   "metadata": {},
   "outputs": [],
   "source": [
    "def guess():\n",
    "    \"\"\" Write a function that develops a Guessing game.\n",
    "        1. Once we call the guess() function, computer should prompt to enter a number between 1 to 10. Hint use input() function.\n",
    "        2. The game should tell the user that he has a total number of 3 guesses.\n",
    "        3. Every time, the user enters a wrong number, the computer should tell the user to either guess higher or lower. \n",
    "           Computer should also tell the user the remaining guess values and should prompt to guess again.\n",
    "        4. Once user enters the correct number, computer should congratualte the user.\n",
    "        5. Please see below on lines 19, 20, 21 for three example calls to the function. The output from the program should\n",
    "        resemble these sample outputs.\n",
    "        \"\"\"\n",
    "    # Your code"
   ]
  },
  {
   "cell_type": "code",
   "execution_count": null,
   "metadata": {},
   "outputs": [],
   "source": []
  },
  {
   "cell_type": "code",
   "execution_count": null,
   "metadata": {},
   "outputs": [],
   "source": []
  },
  {
   "cell_type": "code",
   "execution_count": 19,
   "metadata": {},
   "outputs": [
    {
     "name": "stdout",
     "output_type": "stream",
     "text": [
      "You have total 3 guesses. Please enter your guess: 5\n",
      "Incorrect.  Guess higher: You now have only 2 guesses. Please guess again: 8\n",
      "Incorrect.  Guess lower: You now have only 1 guesses. Please guess again: 7\n",
      "Congrats! You have won the game in 3 guesses.Correct number is indeed: 7\n"
     ]
    }
   ],
   "source": [
    "guess() # sample outputs of the game"
   ]
  },
  {
   "cell_type": "code",
   "execution_count": 20,
   "metadata": {},
   "outputs": [
    {
     "name": "stdout",
     "output_type": "stream",
     "text": [
      "You have total 3 guesses. Please enter your guess: 5\n",
      "Congrats! You have won the game in 1 guesses.Correct number is indeed: 5\n"
     ]
    }
   ],
   "source": [
    "guess()"
   ]
  },
  {
   "cell_type": "code",
   "execution_count": 21,
   "metadata": {},
   "outputs": [
    {
     "name": "stdout",
     "output_type": "stream",
     "text": [
      "You have total 3 guesses. Please enter your guess: 5\n",
      "Incorrect.  Guess higher: You now have only 2 guesses. Please guess again: 8\n",
      "Incorrect.  Guess lower: You now have only 1 guesses. Please guess again: 8\n",
      "You have run out of guesses. Correct number is:  7\n"
     ]
    }
   ],
   "source": [
    "guess()"
   ]
  },
  {
   "cell_type": "code",
   "execution_count": null,
   "metadata": {},
   "outputs": [],
   "source": []
  }
 ],
 "metadata": {
  "kernelspec": {
   "display_name": "Python 3",
   "language": "python",
   "name": "python3"
  },
  "language_info": {
   "codemirror_mode": {
    "name": "ipython",
    "version": 3
   },
   "file_extension": ".py",
   "mimetype": "text/x-python",
   "name": "python",
   "nbconvert_exporter": "python",
   "pygments_lexer": "ipython3",
   "version": "3.7.1"
  }
 },
 "nbformat": 4,
 "nbformat_minor": 2
}
