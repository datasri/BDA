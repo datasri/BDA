{
 "cells": [
  {
   "cell_type": "markdown",
   "metadata": {},
   "source": [
    "<img style=\"float: left;\" src=\"pic2.png\">"
   ]
  },
  {
   "cell_type": "markdown",
   "metadata": {},
   "source": [
    "### Sridhar Palle, Ph.D, spalle@emory.edu (Big Data & Data Analytics Program)"
   ]
  },
  {
   "cell_type": "markdown",
   "metadata": {},
   "source": [
    "# Text Mining"
   ]
  },
  {
   "cell_type": "markdown",
   "metadata": {},
   "source": [
    "### Sentiment Analysis based on imdb user-reviews"
   ]
  },
  {
   "cell_type": "code",
   "execution_count": 1,
   "metadata": {},
   "outputs": [],
   "source": [
    "import numpy as np\n",
    "import pandas as pd\n",
    "import matplotlib.pyplot as plt\n",
    "import seaborn as sns\n",
    "%matplotlib inline"
   ]
  },
  {
   "cell_type": "markdown",
   "metadata": {},
   "source": [
    "## 1. Data Import and Preliminary Exploration"
   ]
  },
  {
   "cell_type": "markdown",
   "metadata": {},
   "source": [
    "#### Lets take a peek at the imdb dataset and explore"
   ]
  },
  {
   "cell_type": "code",
   "execution_count": 2,
   "metadata": {},
   "outputs": [],
   "source": [
    "#this dataset was obtained from UCI Machinelearning repository"
   ]
  },
  {
   "cell_type": "code",
   "execution_count": 3,
   "metadata": {},
   "outputs": [],
   "source": [
    "imdb = pd.read_csv('imdb_labelled.txt', sep = '\\t', header = None) "
   ]
  },
  {
   "cell_type": "code",
   "execution_count": 4,
   "metadata": {},
   "outputs": [
    {
     "data": {
      "text/html": [
       "<div>\n",
       "<style scoped>\n",
       "    .dataframe tbody tr th:only-of-type {\n",
       "        vertical-align: middle;\n",
       "    }\n",
       "\n",
       "    .dataframe tbody tr th {\n",
       "        vertical-align: top;\n",
       "    }\n",
       "\n",
       "    .dataframe thead th {\n",
       "        text-align: right;\n",
       "    }\n",
       "</style>\n",
       "<table border=\"1\" class=\"dataframe\">\n",
       "  <thead>\n",
       "    <tr style=\"text-align: right;\">\n",
       "      <th></th>\n",
       "      <th>0</th>\n",
       "      <th>1</th>\n",
       "    </tr>\n",
       "  </thead>\n",
       "  <tbody>\n",
       "    <tr>\n",
       "      <th>0</th>\n",
       "      <td>A very, very, very slow-moving, aimless movie ...</td>\n",
       "      <td>0</td>\n",
       "    </tr>\n",
       "    <tr>\n",
       "      <th>1</th>\n",
       "      <td>Not sure who was more lost - the flat characte...</td>\n",
       "      <td>0</td>\n",
       "    </tr>\n",
       "    <tr>\n",
       "      <th>2</th>\n",
       "      <td>Attempting artiness with black &amp; white and cle...</td>\n",
       "      <td>0</td>\n",
       "    </tr>\n",
       "  </tbody>\n",
       "</table>\n",
       "</div>"
      ],
      "text/plain": [
       "                                                   0  1\n",
       "0  A very, very, very slow-moving, aimless movie ...  0\n",
       "1  Not sure who was more lost - the flat characte...  0\n",
       "2  Attempting artiness with black & white and cle...  0"
      ]
     },
     "execution_count": 4,
     "metadata": {},
     "output_type": "execute_result"
    }
   ],
   "source": [
    "imdb.head(3)"
   ]
  },
  {
   "cell_type": "markdown",
   "metadata": {},
   "source": [
    "**Lets name the columns**"
   ]
  },
  {
   "cell_type": "code",
   "execution_count": 5,
   "metadata": {},
   "outputs": [
    {
     "data": {
      "text/html": [
       "<div>\n",
       "<style scoped>\n",
       "    .dataframe tbody tr th:only-of-type {\n",
       "        vertical-align: middle;\n",
       "    }\n",
       "\n",
       "    .dataframe tbody tr th {\n",
       "        vertical-align: top;\n",
       "    }\n",
       "\n",
       "    .dataframe thead th {\n",
       "        text-align: right;\n",
       "    }\n",
       "</style>\n",
       "<table border=\"1\" class=\"dataframe\">\n",
       "  <thead>\n",
       "    <tr style=\"text-align: right;\">\n",
       "      <th></th>\n",
       "      <th>Review</th>\n",
       "      <th>Sentiment</th>\n",
       "    </tr>\n",
       "  </thead>\n",
       "  <tbody>\n",
       "    <tr>\n",
       "      <th>0</th>\n",
       "      <td>A very, very, very slow-moving, aimless movie ...</td>\n",
       "      <td>0</td>\n",
       "    </tr>\n",
       "    <tr>\n",
       "      <th>1</th>\n",
       "      <td>Not sure who was more lost - the flat characte...</td>\n",
       "      <td>0</td>\n",
       "    </tr>\n",
       "    <tr>\n",
       "      <th>2</th>\n",
       "      <td>Attempting artiness with black &amp; white and cle...</td>\n",
       "      <td>0</td>\n",
       "    </tr>\n",
       "  </tbody>\n",
       "</table>\n",
       "</div>"
      ],
      "text/plain": [
       "                                              Review  Sentiment\n",
       "0  A very, very, very slow-moving, aimless movie ...          0\n",
       "1  Not sure who was more lost - the flat characte...          0\n",
       "2  Attempting artiness with black & white and cle...          0"
      ]
     },
     "execution_count": 5,
     "metadata": {},
     "output_type": "execute_result"
    }
   ],
   "source": [
    "imdb.columns = ['Review', 'Sentiment']\n",
    "imdb.head(3)"
   ]
  },
  {
   "cell_type": "markdown",
   "metadata": {},
   "source": [
    "**Lets name the rows as well**"
   ]
  },
  {
   "cell_type": "code",
   "execution_count": 6,
   "metadata": {},
   "outputs": [
    {
     "data": {
      "text/html": [
       "<div>\n",
       "<style scoped>\n",
       "    .dataframe tbody tr th:only-of-type {\n",
       "        vertical-align: middle;\n",
       "    }\n",
       "\n",
       "    .dataframe tbody tr th {\n",
       "        vertical-align: top;\n",
       "    }\n",
       "\n",
       "    .dataframe thead th {\n",
       "        text-align: right;\n",
       "    }\n",
       "</style>\n",
       "<table border=\"1\" class=\"dataframe\">\n",
       "  <thead>\n",
       "    <tr style=\"text-align: right;\">\n",
       "      <th></th>\n",
       "      <th>Review</th>\n",
       "      <th>Sentiment</th>\n",
       "    </tr>\n",
       "  </thead>\n",
       "  <tbody>\n",
       "    <tr>\n",
       "      <th>R0</th>\n",
       "      <td>A very, very, very slow-moving, aimless movie ...</td>\n",
       "      <td>0</td>\n",
       "    </tr>\n",
       "    <tr>\n",
       "      <th>R1</th>\n",
       "      <td>Not sure who was more lost - the flat characte...</td>\n",
       "      <td>0</td>\n",
       "    </tr>\n",
       "    <tr>\n",
       "      <th>R2</th>\n",
       "      <td>Attempting artiness with black &amp; white and cle...</td>\n",
       "      <td>0</td>\n",
       "    </tr>\n",
       "  </tbody>\n",
       "</table>\n",
       "</div>"
      ],
      "text/plain": [
       "                                               Review  Sentiment\n",
       "R0  A very, very, very slow-moving, aimless movie ...          0\n",
       "R1  Not sure who was more lost - the flat characte...          0\n",
       "R2  Attempting artiness with black & white and cle...          0"
      ]
     },
     "execution_count": 6,
     "metadata": {},
     "output_type": "execute_result"
    }
   ],
   "source": [
    "rnames = ['R' +str(i) for i in range(0,imdb.shape[0])]\n",
    "imdb.index = rnames\n",
    "imdb.head(3)"
   ]
  },
  {
   "cell_type": "code",
   "execution_count": 7,
   "metadata": {},
   "outputs": [
    {
     "data": {
      "text/plain": [
       "(748, 2)"
      ]
     },
     "execution_count": 7,
     "metadata": {},
     "output_type": "execute_result"
    }
   ],
   "source": [
    "imdb.shape"
   ]
  },
  {
   "cell_type": "markdown",
   "metadata": {},
   "source": [
    "**Q. How many positive & negative sentiment reviews are there**"
   ]
  },
  {
   "cell_type": "code",
   "execution_count": null,
   "metadata": {},
   "outputs": [],
   "source": []
  },
  {
   "cell_type": "markdown",
   "metadata": {},
   "source": [
    "**Before doing text mining, can we think of any other features, that can predict the sentiment. **Lets create a new column, Length which counts the total number of characters in the review****"
   ]
  },
  {
   "cell_type": "code",
   "execution_count": 8,
   "metadata": {},
   "outputs": [],
   "source": [
    "imdb['Length'] = imdb['Review'].apply(len)\n",
    "#imdb['Length'] = imdb['Review'].str.len()"
   ]
  },
  {
   "cell_type": "code",
   "execution_count": 9,
   "metadata": {},
   "outputs": [
    {
     "data": {
      "text/html": [
       "<div>\n",
       "<style scoped>\n",
       "    .dataframe tbody tr th:only-of-type {\n",
       "        vertical-align: middle;\n",
       "    }\n",
       "\n",
       "    .dataframe tbody tr th {\n",
       "        vertical-align: top;\n",
       "    }\n",
       "\n",
       "    .dataframe thead th {\n",
       "        text-align: right;\n",
       "    }\n",
       "</style>\n",
       "<table border=\"1\" class=\"dataframe\">\n",
       "  <thead>\n",
       "    <tr style=\"text-align: right;\">\n",
       "      <th></th>\n",
       "      <th>Review</th>\n",
       "      <th>Sentiment</th>\n",
       "      <th>Length</th>\n",
       "    </tr>\n",
       "  </thead>\n",
       "  <tbody>\n",
       "    <tr>\n",
       "      <th>R0</th>\n",
       "      <td>A very, very, very slow-moving, aimless movie ...</td>\n",
       "      <td>0</td>\n",
       "      <td>87</td>\n",
       "    </tr>\n",
       "    <tr>\n",
       "      <th>R1</th>\n",
       "      <td>Not sure who was more lost - the flat characte...</td>\n",
       "      <td>0</td>\n",
       "      <td>99</td>\n",
       "    </tr>\n",
       "    <tr>\n",
       "      <th>R2</th>\n",
       "      <td>Attempting artiness with black &amp; white and cle...</td>\n",
       "      <td>0</td>\n",
       "      <td>188</td>\n",
       "    </tr>\n",
       "  </tbody>\n",
       "</table>\n",
       "</div>"
      ],
      "text/plain": [
       "                                               Review  Sentiment  Length\n",
       "R0  A very, very, very slow-moving, aimless movie ...          0      87\n",
       "R1  Not sure who was more lost - the flat characte...          0      99\n",
       "R2  Attempting artiness with black & white and cle...          0     188"
      ]
     },
     "execution_count": 9,
     "metadata": {},
     "output_type": "execute_result"
    }
   ],
   "source": [
    "imdb.head(3)"
   ]
  },
  {
   "cell_type": "code",
   "execution_count": 10,
   "metadata": {},
   "outputs": [
    {
     "data": {
      "image/png": "[encoded data removed]",
      "text/plain": [
       "<Figure size 432x288 with 1 Axes>"
      ]
     },
     "metadata": {
      "needs_background": "light"
     },
     "output_type": "display_data"
    }
   ],
   "source": [
    "sns.boxplot(imdb['Sentiment'], imdb['Length'])\n",
    "plt.show()"
   ]
  },
  {
   "cell_type": "code",
   "execution_count": 11,
   "metadata": {
    "scrolled": true
   },
   "outputs": [
    {
     "data": {
      "text/plain": [
       "<matplotlib.legend.Legend at 0x178104c5f60>"
      ]
     },
     "execution_count": 11,
     "metadata": {},
     "output_type": "execute_result"
    },
    {
     "data": {
      "image/png": "[encoded data removed]",
      "text/plain": [
       "<Figure size 1080x288 with 2 Axes>"
      ]
     },
     "metadata": {
      "needs_background": "light"
     },
     "output_type": "display_data"
    }
   ],
   "source": [
    "fig, ax = plt.subplots(1,2, figsize = (15,4))\n",
    "\n",
    "ax[0].hist(imdb.loc[imdb['Sentiment'] == 0, 'Length'], label = 'Negative')\n",
    "ax[1].hist(imdb.loc[imdb['Sentiment'] == 1, 'Length'], label = 'Positive')\n",
    "ax[0].set_xlabel('review length')\n",
    "ax[0].set_ylabel('count')\n",
    "ax[1].set_xlabel('review length')\n",
    "ax[1].set_ylabel('count')\n",
    "ax[0].legend()\n",
    "ax[1].legend()\n",
    "# The plot can be creared in seaborn using facegrid as well.."
   ]
  },
  {
   "cell_type": "code",
   "execution_count": 12,
   "metadata": {},
   "outputs": [],
   "source": [
    "## Looks like while majority of reviews length is less than 1000, there are few high length reviews"
   ]
  },
  {
   "cell_type": "code",
   "execution_count": 13,
   "metadata": {},
   "outputs": [
    {
     "data": {
      "text/html": [
       "<div>\n",
       "<style scoped>\n",
       "    .dataframe tbody tr th:only-of-type {\n",
       "        vertical-align: middle;\n",
       "    }\n",
       "\n",
       "    .dataframe tbody tr th {\n",
       "        vertical-align: top;\n",
       "    }\n",
       "\n",
       "    .dataframe thead tr th {\n",
       "        text-align: left;\n",
       "    }\n",
       "\n",
       "    .dataframe thead tr:last-of-type th {\n",
       "        text-align: right;\n",
       "    }\n",
       "</style>\n",
       "<table border=\"1\" class=\"dataframe\">\n",
       "  <thead>\n",
       "    <tr>\n",
       "      <th></th>\n",
       "      <th colspan=\"8\" halign=\"left\">Length</th>\n",
       "    </tr>\n",
       "    <tr>\n",
       "      <th></th>\n",
       "      <th>count</th>\n",
       "      <th>mean</th>\n",
       "      <th>std</th>\n",
       "      <th>min</th>\n",
       "      <th>25%</th>\n",
       "      <th>50%</th>\n",
       "      <th>75%</th>\n",
       "      <th>max</th>\n",
       "    </tr>\n",
       "    <tr>\n",
       "      <th>Sentiment</th>\n",
       "      <th></th>\n",
       "      <th></th>\n",
       "      <th></th>\n",
       "      <th></th>\n",
       "      <th></th>\n",
       "      <th></th>\n",
       "      <th></th>\n",
       "      <th></th>\n",
       "    </tr>\n",
       "  </thead>\n",
       "  <tbody>\n",
       "    <tr>\n",
       "      <th>0</th>\n",
       "      <td>362.0</td>\n",
       "      <td>117.162983</td>\n",
       "      <td>489.569253</td>\n",
       "      <td>8.0</td>\n",
       "      <td>42.00</td>\n",
       "      <td>68.0</td>\n",
       "      <td>104.00</td>\n",
       "      <td>7944.0</td>\n",
       "    </tr>\n",
       "    <tr>\n",
       "      <th>1</th>\n",
       "      <td>386.0</td>\n",
       "      <td>105.194301</td>\n",
       "      <td>237.262146</td>\n",
       "      <td>7.0</td>\n",
       "      <td>43.25</td>\n",
       "      <td>77.0</td>\n",
       "      <td>123.75</td>\n",
       "      <td>4487.0</td>\n",
       "    </tr>\n",
       "  </tbody>\n",
       "</table>\n",
       "</div>"
      ],
      "text/plain": [
       "          Length                                                          \n",
       "           count        mean         std  min    25%   50%     75%     max\n",
       "Sentiment                                                                 \n",
       "0          362.0  117.162983  489.569253  8.0  42.00  68.0  104.00  7944.0\n",
       "1          386.0  105.194301  237.262146  7.0  43.25  77.0  123.75  4487.0"
      ]
     },
     "execution_count": 13,
     "metadata": {},
     "output_type": "execute_result"
    }
   ],
   "source": [
    "imdb.groupby('Sentiment').describe()"
   ]
  },
  {
   "cell_type": "code",
   "execution_count": 14,
   "metadata": {},
   "outputs": [],
   "source": [
    "#Lenght doesn't seem to be a good predictor of sentiment."
   ]
  },
  {
   "cell_type": "code",
   "execution_count": 15,
   "metadata": {},
   "outputs": [
    {
     "data": {
      "text/plain": [
       "' In fact, it\\'s hard to remember that the part of Ray Charles is being acted, and not played by the man himself.  \\t1\\nRay Charles is legendary.  \\t1\\nRay Charles\\' life provided excellent biographical material for the film, which goes well beyond being just another movie about a musician.  \\t1\\nHitchcock is a great director.  \\t1\\nIronically I mostly find his films a total waste of time to watch.  \\t0\\nSecondly, Hitchcock pretty much perfected the thriller and chase movie.  \\t1\\nIt\\'s this pandering to the audience that sabotages most of his films.  \\t0\\nHence the whole story lacks a certain energy.  \\t0\\nThe plot simply rumbles on like a machine, desperately depending on the addition of new scenes.  \\t0\\nThere are the usual Hitchcock logic flaws.  \\t0\\nMishima is extremely uninteresting.  \\t0\\nThis is a chilly, unremarkable movie about an author living/working in a chilly abstruse culture.  \\t0\\nThe flat reenactments don\\'t hold your attention because they are emotionally adrift and stagy.  \\t0\\nAnd the rest of it just sits there being awful... with soldiers singing songs about the masculinity they pledge themselves to, hairsplitting about purity, the admiration of swords, etc.  \\t0\\nHe can bore you to pieces, and kill the momentum of a movie, quicker than anyone else.  \\t0\\nSchrader has made a resume full of lousy, amateurish films.  \\t0\\nWhen I first watched this movie, in the 80s, I loved it.  \\t1\\nI was totally fascinated by the music, the dancing... everything.  \\t1\\nHowever, I recently watched the whole thing again on DVD, and I was completely struck by how extremely stupid the storyline was - how it contained holes, inconsistencies and - frankly - a whole lot of crap - and how horrid the dancing was.  \\t0\\nI mean, in a realistic world, she would NEVER have gotten into that ballet repertory... The whole thing was quite pathetic.  \\t0\\nThe character developments also lacked in depth.  \\t0\\nWoa, talk about awful.  \\t0\\nDo not waste your time.  \\t0\\nIt was just too horrible.  \\t0\\nThe worst, sappiest dialogue... I could go on and on.  \\t0\\nBut what really made it unwatchable was the direction.  \\t0\\nThe poor actors.  \\t0\\nYou can\\'t even tell if they have any talent because they not only have pathetic lines to speak but the director gave them no action.  \\t0\\nIf you check the director\\'s filmography on this site you will see why this film didn\\'t have a chance.  \\t0\\nThis would not even be good as a made for TV flick.  \\t0\\nIf good intentions made a film great, then this film might be one of the greatest films ever made.  \\t1\\nThe film has great actors, a master director, a significant theme--at least a would-be significant theme, undertone of fifties existential world-weariness, aerial scenes that ought to have thrilled both senses and imagination, and characters about which one might deeply care.  \\t1\\nRegrettably, the film fails.  \\t0\\nThe movie lacks visual interest, drama, expression of feeling, and celebration of the very patriotism that underlines the narrative.  \\t0\\nNo actress has been worse used that June Allison in this movie.  \\t0\\nYet, I enjoy watching it.  \\t1\\nUnfortunately, this is a bad movie that is just plain bad.  \\t0\\nBad script, bad direction and horrible acting make this one plain bad!  \\t0\\nThe dialogue sucked.  \\t0\\nThe cinematography-if it can be called that-sucked.  \\t0\\nThe soundtrack sucked.  \\t0\\nThe acting sucked.  \\t0\\nThe concert sequences just sucked.  \\t0\\nThat was nice.  \\t1\\nThat was funny.  \\t1\\nIt was so funny.  \\t1\\nOverall, this movie was cheap trash.  \\t0\\nBut this movie is not funny, considering the ridiculousness of it.  \\t0\\nI came out of it feeling angry.  \\t0\\n***SPOILERS*** Whatever else can (or can\\'t) be said about it, SURFACE is superbly crafted.  \\t1\\nThe cinematography is simply stunning (to say the least) and the fx are nothing if not state-of-the-art.  \\t1\\nConceptually, the show offers a little bit of everything- and for just about everybody (parents, kids, fantasy and/or fx fans).  \\t1\\nAnd there wasn\\'t a single sour note struck acting-wise, either; some surprisingly solid casting, here.  \\t1\\nAll things considered, a job very well done.  \\t1\\nThanks good a movie like this was done and released.  \\t1\\nOne of the best mexican movies ever!, and one of the less understood, even by mexican themselves, no matter how identified the should have felt with it.  \\t1\\nIt ranks highly as a great noir-crime-drama, incredible performances by Belmondo and Lino Ventura.  \\t1\\nThe attention given to every character, and complex psychological portrayals, detailing loyalty, treachery, love, and hope, are tremendous.  \\t1\\nIt is an excellent drama, an excellent thriller, and an excellent film.  \\t1\\nUp there with the best of Melville.  \\t1\\nEverything about this film is simply incredible.  \\t1\\nYou truly take this journey through the eyes and soul of a child.  \\t1\\nBLACK WATER is a thriller that manages to completely transcend it\\'s limitations (it\\'s an indie flick) by continually subverting expectations to emerge as an intense experience.  \\t1\\nThe performances are real and gripping, the crocdodile is extremely well done, indeed if the Black Water website is to be believed that\\'s because they used real crocs and the swamp location is fabulous.  \\t1\\nI thoroughly enjoyed it when Christopher Eccleston took control of the TARDIS and the continuation of the series.  \\t1\\nI\\'m not sure what he was trying to do with this film.  \\t0\\nIf it was to turn my good day feeling into a night of disturbing memories than I guess he succeeded.  \\t0\\nThere is a lot of beautiful places.  \\t1\\nIt was forced, like everything in this movie.  \\t0\\nAgain, lame.  \\t0\\nHere\\'s where the movie really pi**ed me off.  \\t0\\nAnd don\\'t even get me started on the jerky camerawork.  \\t0\\nWhen I saw it in the theater I thought I was going to be sick.  \\t0\\nSummary: The witticisms weren\\'t witty.  \\t0\\nThe plot - well, I said I\\'d let that one go.  \\t0\\nThe acting was bad.  \\t0\\nReally bad.  \\t0\\nEven Billy Bob couldn\\'t rise above the script, which was worse.  \\t0\\nCamerawork - again, bad.  \\t0\\nRating: 1 out of 10.  \\t0\\nAn AMAZING finale to possibly the BEST trilogy of all time!  \\t1\\nKieslowski never ceases to amaze me.  \\t1\\nHe is one of my favourite directors, and one of the most talented directors in the history of cinema.  \\t1\\nHis use of the colours of the French flag in the three films was nothing short of incredible, every shot, every scene was like a work of art.  \\t1\\nThree of the most visually appealing movies i\\'ve ever seen.  \\t1\\nAnd his subtle connections between the three films are awesome.  \\t1\\nI have to mention this and it is a huge SPOILER, i loved the ending, how all the characters of the three films were the remaining survivors of the ferry disaster, with Valentine and the young judge together, and the old man watching it on her TV, solidifying his happiness over the suffering which he dealt with for those many years.  \\t1\\nI couldn\\'t think of a better way to end the film, but a smile on my face, great way to wrap up an amazing film and trilogy!  \\t1\\nI recommend this for EVERYONE who loves film, movies, anything...A Work of Art!  \\t1\\n10 out of 10 for both the movie and trilogy.  \\t1\\nI literally vomited while watching this film.  \\t0\\nI think i was one of the people who found this another one of roth\\'s pearls.  \\t1\\nhis performance, as awarded, was stunning.  \\t1\\nthe story which was told so eloquently by Francis ford Coppola 25 years earlier, really unfolds gradually and leaves room for the characters to develop.  \\t1\\nIn a most wonderful location lies a story of contrast.  \\t1\\nAll in all a beautiful directed film from Nicola\\'s roeg wih a sublime cast.  \\t1\\nI\\'m translating movies for a living and this is the first movie in my 5-year working experience that I found offensive to my intelligence.  \\t0\\nBut when someone strives for greatness and poetry, but delivers a muddled (and often ridiculous) story, a bunch of disparate scenes, pretentious dialogue... Then you get the worst kind of a movie that some other reviewer very accurately defined as pretentious crap\".  '"
      ]
     },
     "execution_count": 15,
     "metadata": {},
     "output_type": "execute_result"
    }
   ],
   "source": [
    "imdb.loc[imdb['Length'].idxmax(), 'Review'] # lets see the long negative review.."
   ]
  },
  {
   "cell_type": "markdown",
   "metadata": {},
   "source": [
    "## 2. Bag of Words Approach"
   ]
  },
  {
   "cell_type": "code",
   "execution_count": 16,
   "metadata": {},
   "outputs": [],
   "source": [
    "from sklearn.feature_extraction.text import CountVectorizer"
   ]
  },
  {
   "cell_type": "code",
   "execution_count": 17,
   "metadata": {},
   "outputs": [
    {
     "data": {
      "text/html": [
       "<div>\n",
       "<style scoped>\n",
       "    .dataframe tbody tr th:only-of-type {\n",
       "        vertical-align: middle;\n",
       "    }\n",
       "\n",
       "    .dataframe tbody tr th {\n",
       "        vertical-align: top;\n",
       "    }\n",
       "\n",
       "    .dataframe thead th {\n",
       "        text-align: right;\n",
       "    }\n",
       "</style>\n",
       "<table border=\"1\" class=\"dataframe\">\n",
       "  <thead>\n",
       "    <tr style=\"text-align: right;\">\n",
       "      <th></th>\n",
       "      <th>Review</th>\n",
       "      <th>Sentiment</th>\n",
       "      <th>Length</th>\n",
       "    </tr>\n",
       "  </thead>\n",
       "  <tbody>\n",
       "    <tr>\n",
       "      <th>R0</th>\n",
       "      <td>A very, very, very slow-moving, aimless movie ...</td>\n",
       "      <td>0</td>\n",
       "      <td>87</td>\n",
       "    </tr>\n",
       "    <tr>\n",
       "      <th>R1</th>\n",
       "      <td>Not sure who was more lost - the flat characte...</td>\n",
       "      <td>0</td>\n",
       "      <td>99</td>\n",
       "    </tr>\n",
       "  </tbody>\n",
       "</table>\n",
       "</div>"
      ],
      "text/plain": [
       "                                               Review  Sentiment  Length\n",
       "R0  A very, very, very slow-moving, aimless movie ...          0      87\n",
       "R1  Not sure who was more lost - the flat characte...          0      99"
      ]
     },
     "execution_count": 17,
     "metadata": {},
     "output_type": "execute_result"
    }
   ],
   "source": [
    "imdb.head(2)"
   ]
  },
  {
   "cell_type": "markdown",
   "metadata": {},
   "source": [
    "**Countvectorizer function converts an array of text documents into a 2-dimensional matrix filled with \n",
    "word counts**"
   ]
  },
  {
   "cell_type": "code",
   "execution_count": 18,
   "metadata": {},
   "outputs": [
    {
     "data": {
      "text/plain": [
       "R0    A very, very, very slow-moving, aimless movie ...\n",
       "R1    Not sure who was more lost - the flat characte...\n",
       "R2    Attempting artiness with black & white and cle...\n",
       "Name: Review, dtype: object"
      ]
     },
     "execution_count": 18,
     "metadata": {},
     "output_type": "execute_result"
    }
   ],
   "source": [
    "imdb['Review'][0:3]"
   ]
  },
  {
   "cell_type": "code",
   "execution_count": 19,
   "metadata": {},
   "outputs": [
    {
     "name": "stdout",
     "output_type": "stream",
     "text": [
      "(748, 3047)\n"
     ]
    }
   ],
   "source": [
    "cv = CountVectorizer()\n",
    "words_bow = cv.fit_transform(imdb['Review'])\n",
    "print (words_bow.shape) # 748 rows and 3047 words (in columns)"
   ]
  },
  {
   "cell_type": "markdown",
   "metadata": {},
   "source": [
    "**Lets include some additional arguments in count vectorizer**"
   ]
  },
  {
   "cell_type": "code",
   "execution_count": 75,
   "metadata": {},
   "outputs": [
    {
     "data": {
      "text/plain": [
       "(748, 2811)"
      ]
     },
     "execution_count": 75,
     "metadata": {},
     "output_type": "execute_result"
    }
   ],
   "source": [
    "cv = CountVectorizer(stop_words = 'english')\n",
    "words_bow = cv.fit_transform(imdb['Review'])\n",
    "words_bow.shape # now our words are filtered further to include all words that are not stop words"
   ]
  },
  {
   "cell_type": "code",
   "execution_count": 76,
   "metadata": {},
   "outputs": [],
   "source": [
    "# cv = CountVectorizer(stop_words = 'english', ngram_range = (1,2))\n",
    "# words_bow = cv.fit_transform(imdb['Review'])\n",
    "# words_bow.shape # now our words are filtered further to include all words that are not stop words"
   ]
  },
  {
   "cell_type": "markdown",
   "metadata": {},
   "source": [
    "**Countvectorizer is pretty good. It has built-in arguments for common pre-processing text options**\n",
    "* lowercase = True\n",
    "* stop_words = 'english'\n",
    "* token_pattern - takes care of punctuation\n",
    "* Countvectorizer doesn't do stemming. We need an exttra step to do it through a customized analyzer\n"
   ]
  },
  {
   "cell_type": "code",
   "execution_count": 77,
   "metadata": {},
   "outputs": [],
   "source": [
    "# lets take a peek into words_bow"
   ]
  },
  {
   "cell_type": "code",
   "execution_count": 78,
   "metadata": {},
   "outputs": [
    {
     "data": {
      "text/plain": [
       "<748x2811 sparse matrix of type '<class 'numpy.int64'>'\n",
       "\twith 6251 stored elements in Compressed Sparse Row format>"
      ]
     },
     "execution_count": 78,
     "metadata": {},
     "output_type": "execute_result"
    }
   ],
   "source": [
    "words_bow"
   ]
  },
  {
   "cell_type": "code",
   "execution_count": 79,
   "metadata": {},
   "outputs": [
    {
     "data": {
      "text/plain": [
       "scipy.sparse.csr.csr_matrix"
      ]
     },
     "execution_count": 79,
     "metadata": {},
     "output_type": "execute_result"
    }
   ],
   "source": [
    "type(words_bow) # This is a sparse scipy matrix with 748 rows (text reviews), and 2811 word columns (words)"
   ]
  },
  {
   "cell_type": "markdown",
   "metadata": {},
   "source": [
    "**toarray(), or todense() to see it as an array of word counts**"
   ]
  },
  {
   "cell_type": "code",
   "execution_count": 80,
   "metadata": {},
   "outputs": [
    {
     "data": {
      "text/plain": [
       "array([[0, 0, 0, ..., 0, 0, 0],\n",
       "       [0, 0, 0, ..., 0, 0, 0],\n",
       "       [0, 0, 0, ..., 0, 0, 0],\n",
       "       ...,\n",
       "       [0, 0, 0, ..., 0, 0, 0],\n",
       "       [0, 0, 0, ..., 0, 0, 0],\n",
       "       [0, 0, 0, ..., 0, 0, 0]], dtype=int64)"
      ]
     },
     "execution_count": 80,
     "metadata": {},
     "output_type": "execute_result"
    }
   ],
   "source": [
    "words_bow.toarray() #toarray() or todense() will convert sparse matrix into a 2-dimensional array"
   ]
  },
  {
   "cell_type": "code",
   "execution_count": 81,
   "metadata": {},
   "outputs": [
    {
     "data": {
      "text/html": [
       "<div>\n",
       "<style scoped>\n",
       "    .dataframe tbody tr th:only-of-type {\n",
       "        vertical-align: middle;\n",
       "    }\n",
       "\n",
       "    .dataframe tbody tr th {\n",
       "        vertical-align: top;\n",
       "    }\n",
       "\n",
       "    .dataframe thead th {\n",
       "        text-align: right;\n",
       "    }\n",
       "</style>\n",
       "<table border=\"1\" class=\"dataframe\">\n",
       "  <thead>\n",
       "    <tr style=\"text-align: right;\">\n",
       "      <th></th>\n",
       "      <th>0</th>\n",
       "      <th>1</th>\n",
       "      <th>2</th>\n",
       "      <th>3</th>\n",
       "      <th>4</th>\n",
       "      <th>5</th>\n",
       "      <th>6</th>\n",
       "      <th>7</th>\n",
       "      <th>8</th>\n",
       "      <th>9</th>\n",
       "      <th>...</th>\n",
       "      <th>2801</th>\n",
       "      <th>2802</th>\n",
       "      <th>2803</th>\n",
       "      <th>2804</th>\n",
       "      <th>2805</th>\n",
       "      <th>2806</th>\n",
       "      <th>2807</th>\n",
       "      <th>2808</th>\n",
       "      <th>2809</th>\n",
       "      <th>2810</th>\n",
       "    </tr>\n",
       "  </thead>\n",
       "  <tbody>\n",
       "    <tr>\n",
       "      <th>0</th>\n",
       "      <td>0</td>\n",
       "      <td>0</td>\n",
       "      <td>0</td>\n",
       "      <td>0</td>\n",
       "      <td>0</td>\n",
       "      <td>0</td>\n",
       "      <td>0</td>\n",
       "      <td>0</td>\n",
       "      <td>0</td>\n",
       "      <td>0</td>\n",
       "      <td>...</td>\n",
       "      <td>0</td>\n",
       "      <td>0</td>\n",
       "      <td>1</td>\n",
       "      <td>0</td>\n",
       "      <td>0</td>\n",
       "      <td>0</td>\n",
       "      <td>0</td>\n",
       "      <td>0</td>\n",
       "      <td>0</td>\n",
       "      <td>0</td>\n",
       "    </tr>\n",
       "    <tr>\n",
       "      <th>1</th>\n",
       "      <td>0</td>\n",
       "      <td>0</td>\n",
       "      <td>0</td>\n",
       "      <td>0</td>\n",
       "      <td>0</td>\n",
       "      <td>0</td>\n",
       "      <td>0</td>\n",
       "      <td>0</td>\n",
       "      <td>0</td>\n",
       "      <td>0</td>\n",
       "      <td>...</td>\n",
       "      <td>0</td>\n",
       "      <td>0</td>\n",
       "      <td>0</td>\n",
       "      <td>0</td>\n",
       "      <td>0</td>\n",
       "      <td>0</td>\n",
       "      <td>0</td>\n",
       "      <td>0</td>\n",
       "      <td>0</td>\n",
       "      <td>0</td>\n",
       "    </tr>\n",
       "  </tbody>\n",
       "</table>\n",
       "<p>2 rows × 2811 columns</p>\n",
       "</div>"
      ],
      "text/plain": [
       "   0     1     2     3     4     5     6     7     8     9     ...   2801  \\\n",
       "0     0     0     0     0     0     0     0     0     0     0  ...      0   \n",
       "1     0     0     0     0     0     0     0     0     0     0  ...      0   \n",
       "\n",
       "   2802  2803  2804  2805  2806  2807  2808  2809  2810  \n",
       "0     0     1     0     0     0     0     0     0     0  \n",
       "1     0     0     0     0     0     0     0     0     0  \n",
       "\n",
       "[2 rows x 2811 columns]"
      ]
     },
     "execution_count": 81,
     "metadata": {},
     "output_type": "execute_result"
    }
   ],
   "source": [
    "words_bow_df = pd.DataFrame(words_bow.toarray()) # to see it as a data frame\n",
    "words_bow_df.head(2)"
   ]
  },
  {
   "cell_type": "markdown",
   "metadata": {},
   "source": [
    "**.get_feature_names method lists the acutal words**"
   ]
  },
  {
   "cell_type": "code",
   "execution_count": 82,
   "metadata": {},
   "outputs": [
    {
     "data": {
      "text/plain": [
       "['10', '12', '13', '15', '15pm', '17', '18th', '1928', '1947', '1948']"
      ]
     },
     "execution_count": 82,
     "metadata": {},
     "output_type": "execute_result"
    }
   ],
   "source": [
    "cv.get_feature_names()[0:10] # actual words are the columns"
   ]
  },
  {
   "cell_type": "markdown",
   "metadata": {},
   "source": [
    "**Lets give above words as column names to the data frame**"
   ]
  },
  {
   "cell_type": "code",
   "execution_count": 83,
   "metadata": {},
   "outputs": [
    {
     "data": {
      "text/html": [
       "<div>\n",
       "<style scoped>\n",
       "    .dataframe tbody tr th:only-of-type {\n",
       "        vertical-align: middle;\n",
       "    }\n",
       "\n",
       "    .dataframe tbody tr th {\n",
       "        vertical-align: top;\n",
       "    }\n",
       "\n",
       "    .dataframe thead th {\n",
       "        text-align: right;\n",
       "    }\n",
       "</style>\n",
       "<table border=\"1\" class=\"dataframe\">\n",
       "  <thead>\n",
       "    <tr style=\"text-align: right;\">\n",
       "      <th></th>\n",
       "      <th>10</th>\n",
       "      <th>12</th>\n",
       "      <th>13</th>\n",
       "      <th>15</th>\n",
       "      <th>15pm</th>\n",
       "      <th>17</th>\n",
       "      <th>18th</th>\n",
       "      <th>1928</th>\n",
       "      <th>1947</th>\n",
       "      <th>1948</th>\n",
       "      <th>...</th>\n",
       "      <th>yelps</th>\n",
       "      <th>yes</th>\n",
       "      <th>young</th>\n",
       "      <th>younger</th>\n",
       "      <th>youthful</th>\n",
       "      <th>youtube</th>\n",
       "      <th>yun</th>\n",
       "      <th>zillion</th>\n",
       "      <th>zombie</th>\n",
       "      <th>zombiez</th>\n",
       "    </tr>\n",
       "  </thead>\n",
       "  <tbody>\n",
       "    <tr>\n",
       "      <th>R0</th>\n",
       "      <td>0</td>\n",
       "      <td>0</td>\n",
       "      <td>0</td>\n",
       "      <td>0</td>\n",
       "      <td>0</td>\n",
       "      <td>0</td>\n",
       "      <td>0</td>\n",
       "      <td>0</td>\n",
       "      <td>0</td>\n",
       "      <td>0</td>\n",
       "      <td>...</td>\n",
       "      <td>0</td>\n",
       "      <td>0</td>\n",
       "      <td>1</td>\n",
       "      <td>0</td>\n",
       "      <td>0</td>\n",
       "      <td>0</td>\n",
       "      <td>0</td>\n",
       "      <td>0</td>\n",
       "      <td>0</td>\n",
       "      <td>0</td>\n",
       "    </tr>\n",
       "    <tr>\n",
       "      <th>R1</th>\n",
       "      <td>0</td>\n",
       "      <td>0</td>\n",
       "      <td>0</td>\n",
       "      <td>0</td>\n",
       "      <td>0</td>\n",
       "      <td>0</td>\n",
       "      <td>0</td>\n",
       "      <td>0</td>\n",
       "      <td>0</td>\n",
       "      <td>0</td>\n",
       "      <td>...</td>\n",
       "      <td>0</td>\n",
       "      <td>0</td>\n",
       "      <td>0</td>\n",
       "      <td>0</td>\n",
       "      <td>0</td>\n",
       "      <td>0</td>\n",
       "      <td>0</td>\n",
       "      <td>0</td>\n",
       "      <td>0</td>\n",
       "      <td>0</td>\n",
       "    </tr>\n",
       "    <tr>\n",
       "      <th>R2</th>\n",
       "      <td>0</td>\n",
       "      <td>0</td>\n",
       "      <td>0</td>\n",
       "      <td>0</td>\n",
       "      <td>0</td>\n",
       "      <td>0</td>\n",
       "      <td>0</td>\n",
       "      <td>0</td>\n",
       "      <td>0</td>\n",
       "      <td>0</td>\n",
       "      <td>...</td>\n",
       "      <td>0</td>\n",
       "      <td>0</td>\n",
       "      <td>0</td>\n",
       "      <td>0</td>\n",
       "      <td>0</td>\n",
       "      <td>0</td>\n",
       "      <td>0</td>\n",
       "      <td>0</td>\n",
       "      <td>0</td>\n",
       "      <td>0</td>\n",
       "    </tr>\n",
       "  </tbody>\n",
       "</table>\n",
       "<p>3 rows × 2811 columns</p>\n",
       "</div>"
      ],
      "text/plain": [
       "    10  12  13  15  15pm  17  18th  1928  1947  1948   ...     yelps  yes  \\\n",
       "R0   0   0   0   0     0   0     0     0     0     0   ...         0    0   \n",
       "R1   0   0   0   0     0   0     0     0     0     0   ...         0    0   \n",
       "R2   0   0   0   0     0   0     0     0     0     0   ...         0    0   \n",
       "\n",
       "    young  younger  youthful  youtube  yun  zillion  zombie  zombiez  \n",
       "R0      1        0         0        0    0        0       0        0  \n",
       "R1      0        0         0        0    0        0       0        0  \n",
       "R2      0        0         0        0    0        0       0        0  \n",
       "\n",
       "[3 rows x 2811 columns]"
      ]
     },
     "execution_count": 83,
     "metadata": {},
     "output_type": "execute_result"
    }
   ],
   "source": [
    "words_bow_df = pd.DataFrame(words_bow.toarray(), columns=cv.get_feature_names(), index = rnames) # to see it as an array of word counts\n",
    "words_bow_df.head(3)"
   ]
  },
  {
   "cell_type": "markdown",
   "metadata": {},
   "source": [
    "**Lets see the mapping of column numbers to actual word names**"
   ]
  },
  {
   "cell_type": "markdown",
   "metadata": {},
   "source": [
    "**.vocabulary_ method maps the column positions (or implicit indices) with the actual word names**"
   ]
  },
  {
   "cell_type": "code",
   "execution_count": 84,
   "metadata": {},
   "outputs": [
    {
     "data": {
      "text/plain": [
       "{'slow': 2233,\n",
       " 'moving': 1627,\n",
       " 'aimless': 87,\n",
       " 'movie': 1625,\n",
       " 'distressed': 697,\n",
       " 'drifting': 732,\n",
       " 'young': 2803,\n",
       " 'man': 1524,\n",
       " 'sure': 2389,\n",
       " 'lost': 1491,\n",
       " 'flat': 958,\n",
       " 'characters': 385,\n",
       " 'audience': 170,\n",
       " 'nearly': 1650,\n",
       " 'half': 1117,\n",
       " 'walked': 2695,\n",
       " 'attempting': 166,\n",
       " 'artiness': 145,\n",
       " 'black': 250,\n",
       " 'white': 2741,\n",
       " 'clever': 432,\n",
       " 'camera': 333,\n",
       " 'angles': 114,\n",
       " 'disappointed': 679,\n",
       " 'ridiculous': 2041,\n",
       " 'acting': 54,\n",
       " 'poor': 1847,\n",
       " 'plot': 1831,\n",
       " 'lines': 1461,\n",
       " 'non': 1672,\n",
       " 'existent': 851,\n",
       " 'little': 1467,\n",
       " 'music': 1636,\n",
       " 'speak': 2274,\n",
       " 'best': 238,\n",
       " 'scene': 2108,\n",
       " 'gerardo': 1049,\n",
       " 'trying': 2555,\n",
       " 'song': 2255,\n",
       " 'keeps': 1367,\n",
       " 'running': 2076,\n",
       " 'head': 1145,\n",
       " 'rest': 2023,\n",
       " 'lacks': 1398,\n",
       " 'art': 143,\n",
       " 'charm': 390,\n",
       " 'meaning': 1555,\n",
       " 'emptiness': 788,\n",
       " 'works': 2775,\n",
       " 'guess': 1106,\n",
       " 'wasted': 2711,\n",
       " 'hours': 1210,\n",
       " 'saw': 2099,\n",
       " 'today': 2495,\n",
       " 'thought': 2469,\n",
       " 'good': 1075,\n",
       " 'effort': 765,\n",
       " 'messages': 1576,\n",
       " 'kids': 1374,\n",
       " 'bit': 248,\n",
       " 'predictable': 1868,\n",
       " 'loved': 1497,\n",
       " 'casting': 360,\n",
       " 'jimmy': 1340,\n",
       " 'buffet': 315,\n",
       " 'science': 2118,\n",
       " 'teacher': 2428,\n",
       " 'baby': 191,\n",
       " 'owls': 1738,\n",
       " 'adorable': 70,\n",
       " 'showed': 2195,\n",
       " 'lot': 1492,\n",
       " 'florida': 965,\n",
       " 'look': 1482,\n",
       " 'appealing': 130,\n",
       " 'songs': 2256,\n",
       " 'muppets': 1631,\n",
       " 'hilarious': 1176,\n",
       " 'cool': 533,\n",
       " 'right': 2043,\n",
       " 'case': 356,\n",
       " 'delivers': 632,\n",
       " 'face': 877,\n",
       " 'average': 176,\n",
       " 'main': 1513,\n",
       " 'person': 1788,\n",
       " 'low': 1500,\n",
       " 'budget': 313,\n",
       " 'clearly': 431,\n",
       " 'review': 2035,\n",
       " 'long': 1480,\n",
       " 'overdue': 1732,\n",
       " 'consider': 502,\n",
       " 'tale': 2416,\n",
       " 'sisters': 2215,\n",
       " 'single': 2210,\n",
       " 'greatest': 1094,\n",
       " 'film': 935,\n",
       " 'll': 1471,\n",
       " 'gem': 1039,\n",
       " 'terms': 2448,\n",
       " 'screenplay': 2126,\n",
       " 'cinematography': 425,\n",
       " 'post': 1858,\n",
       " 'production': 1894,\n",
       " 'editing': 758,\n",
       " 'directing': 674,\n",
       " 'aspect': 153,\n",
       " 'making': 1520,\n",
       " 'practically': 1864,\n",
       " 'perfect': 1781,\n",
       " 'true': 2549,\n",
       " 'masterpiece': 1542,\n",
       " 'sea': 2134,\n",
       " 'faux': 915,\n",
       " 'masterpieces': 1543,\n",
       " 'structure': 2342,\n",
       " 'easily': 750,\n",
       " 'tightly': 2484,\n",
       " 'constructed': 511,\n",
       " 'history': 1180,\n",
       " 'cinema': 422,\n",
       " 'think': 2464,\n",
       " 'vitally': 2681,\n",
       " 'important': 1248,\n",
       " 'occurs': 1697,\n",
       " 'minute': 1589,\n",
       " 'words': 2771,\n",
       " 'content': 515,\n",
       " 'level': 1440,\n",
       " 'dozen': 717,\n",
       " 'films': 940,\n",
       " 'mind': 1584,\n",
       " 'ask': 151,\n",
       " 'quite': 1936,\n",
       " 'simply': 2207,\n",
       " 'highest': 1173,\n",
       " 'superlative': 2384,\n",
       " 'form': 989,\n",
       " 'imaginable': 1239,\n",
       " 'yes': 2802,\n",
       " 'does': 704,\n",
       " 'require': 2018,\n",
       " 'significant': 2202,\n",
       " 'puzzle': 1925,\n",
       " 'solving': 2252,\n",
       " 'pieces': 1806,\n",
       " 'fit': 953,\n",
       " 'create': 560,\n",
       " 'beautiful': 218,\n",
       " 'picture': 1803,\n",
       " 'short': 2190,\n",
       " 'certainly': 373,\n",
       " 'pulls': 1915,\n",
       " 'punches': 1917,\n",
       " 'graphics': 1090,\n",
       " 'far': 902,\n",
       " 'game': 1028,\n",
       " 'number': 1683,\n",
       " 'th': 2453,\n",
       " 'series': 2160,\n",
       " 'deserves': 644,\n",
       " 'strong': 2340,\n",
       " 'love': 1496,\n",
       " 'insane': 1279,\n",
       " 'massive': 1539,\n",
       " 'levels': 1441,\n",
       " 'unlockable': 2616,\n",
       " 'just': 1362,\n",
       " 'waste': 2710,\n",
       " 'money': 1606,\n",
       " 'kind': 1380,\n",
       " 'properly': 1902,\n",
       " 'actually': 61,\n",
       " 'time': 2485,\n",
       " 'crap': 554,\n",
       " 'say': 2100,\n",
       " 'canada': 337,\n",
       " 'fun': 1015,\n",
       " 'aye': 187,\n",
       " 'rocks': 2056,\n",
       " 'buy': 325,\n",
       " 'play': 1818,\n",
       " 'enjoy': 802,\n",
       " 'pure': 1922,\n",
       " 'brilliance': 302,\n",
       " 'flick': 963,\n",
       " 'doomed': 713,\n",
       " 'conception': 484,\n",
       " 'idea': 1229,\n",
       " 'lame': 1401,\n",
       " 'minor': 1588,\n",
       " 'character': 383,\n",
       " 'mediocre': 1559,\n",
       " 'pg': 1792,\n",
       " '13': 2,\n",
       " 'make': 1516,\n",
       " 'complete': 473,\n",
       " 'sequel': 2156,\n",
       " 'changing': 381,\n",
       " 'tone': 2501,\n",
       " 'rated': 1948,\n",
       " 'family': 895,\n",
       " 'wasn': 2709,\n",
       " 'interested': 1300,\n",
       " 'did': 666,\n",
       " 'confirm': 493,\n",
       " 'unfunny': 2607,\n",
       " 'generic': 1043,\n",
       " 'managed': 1525,\n",
       " 'away': 183,\n",
       " 'entire': 810,\n",
       " 'exaggerating': 836,\n",
       " 'moment': 1603,\n",
       " 'point': 1838,\n",
       " 'joke': 1346,\n",
       " 'told': 2496,\n",
       " 'trailer': 2523,\n",
       " 'funny': 1019,\n",
       " 'talented': 2418,\n",
       " 'carrell': 350,\n",
       " 'save': 2097,\n",
       " 'stars': 2302,\n",
       " 'don': 710,\n",
       " 'fare': 904,\n",
       " 'better': 239,\n",
       " 'people': 1779,\n",
       " 'like': 1451,\n",
       " 'morgan': 1614,\n",
       " 'freeman': 1001,\n",
       " 'jonah': 1348,\n",
       " 'hill': 1177,\n",
       " 'ed': 756,\n",
       " 'helms': 1159,\n",
       " 'story': 2327,\n",
       " 'lazy': 1421,\n",
       " 'real': 1958,\n",
       " 'effects': 764,\n",
       " 'work': 2772,\n",
       " 'presence': 1874,\n",
       " 'animals': 118,\n",
       " 'integration': 1293,\n",
       " 'scenes': 2110,\n",
       " 'worst': 2779,\n",
       " 'obvious': 1692,\n",
       " 'blue': 260,\n",
       " 'green': 1096,\n",
       " 'screen': 2124,\n",
       " 've': 2654,\n",
       " 'seen': 2144,\n",
       " 'cost': 540,\n",
       " 'didn': 667,\n",
       " 'translate': 2528,\n",
       " 'quality': 1929,\n",
       " 'succeeds': 2366,\n",
       " 'despite': 652,\n",
       " 'obviously': 1693,\n",
       " 'meagre': 1552,\n",
       " 'glad': 1065,\n",
       " 'choice': 414,\n",
       " 'lesser': 1435,\n",
       " 'addition': 66,\n",
       " 'having': 1140,\n",
       " 'lovely': 1498,\n",
       " 'written': 2793,\n",
       " 'french': 1002,\n",
       " 'cancan': 338,\n",
       " 'boasts': 262,\n",
       " 'cutest': 586,\n",
       " 'leading': 1423,\n",
       " 'ladies': 1399,\n",
       " 'grace': 1085,\n",
       " 'hard': 1132,\n",
       " 'fall': 888,\n",
       " 'heels': 1154,\n",
       " 'girl': 1058,\n",
       " 'negative': 1655,\n",
       " 'insipid': 1282,\n",
       " 'cause': 364,\n",
       " 'regret': 1984,\n",
       " 'life': 1447,\n",
       " 'whiny': 2740,\n",
       " 'pointless': 1840,\n",
       " 'recommend': 1972,\n",
       " 'waiting': 2692,\n",
       " 'future': 1020,\n",
       " 'efforts': 766,\n",
       " 'let': 1437,\n",
       " 'excellent': 838,\n",
       " 'cast': 358,\n",
       " 'line': 1459,\n",
       " 'performances': 1785,\n",
       " 'totally': 2512,\n",
       " 'believable': 226,\n",
       " 'anne': 123,\n",
       " 'heche': 1153,\n",
       " 'utterly': 2647,\n",
       " 'convincing': 531,\n",
       " 'sam': 2087,\n",
       " 'shepard': 2185,\n",
       " 'portrayal': 1851,\n",
       " 'gung': 1109,\n",
       " 'ho': 1182,\n",
       " 'marine': 1531,\n",
       " 'sobering': 2246,\n",
       " 'sat': 2093,\n",
       " 'riveted': 2049,\n",
       " 'tv': 2563,\n",
       " 'resounding': 2021,\n",
       " '10': 0,\n",
       " 'tom': 2499,\n",
       " 'hanks': 1127,\n",
       " 'actor': 57,\n",
       " 'enjoyed': 804,\n",
       " 'reading': 1956,\n",
       " 'book': 275,\n",
       " 'children': 408,\n",
       " 'annoying': 125,\n",
       " 'voice': 2685,\n",
       " 'gives': 1063,\n",
       " 'feeling': 922,\n",
       " 'fingernails': 948,\n",
       " 'chalkboard': 376,\n",
       " 'unnecessary': 2620,\n",
       " 'train': 2524,\n",
       " 'roller': 2060,\n",
       " 'coaster': 445,\n",
       " 'absolutely': 38,\n",
       " 'warmth': 2702,\n",
       " 'grates': 1092,\n",
       " 'nerves': 1659,\n",
       " 'improved': 1253,\n",
       " 'improvisation': 1255,\n",
       " 'actors': 58,\n",
       " 'twice': 2564,\n",
       " 'worry': 2777,\n",
       " 'delivering': 631,\n",
       " 'honestly': 1195,\n",
       " 'dialogue': 663,\n",
       " 'doesn': 705,\n",
       " 'really': 1964,\n",
       " 'follow': 971,\n",
       " 'surroundings': 2398,\n",
       " 'crackles': 552,\n",
       " 'unpredictable': 2625,\n",
       " 'youthful': 2805,\n",
       " 'energy': 798,\n",
       " 'concentrate': 483,\n",
       " 'meanders': 1554,\n",
       " 'badly': 196,\n",
       " 'generally': 1041,\n",
       " 'great': 1093,\n",
       " 'things': 2463,\n",
       " 'wouldn': 2784,\n",
       " 'worth': 2780,\n",
       " 'suspense': 2400,\n",
       " 'builders': 317,\n",
       " 'cross': 576,\n",
       " 'especially': 821,\n",
       " 'liked': 1452,\n",
       " 'cliche': 433,\n",
       " 'choices': 415,\n",
       " 'parents': 1759,\n",
       " 'movies': 1626,\n",
       " 'predict': 1867,\n",
       " 'dialog': 661,\n",
       " 'verbatim': 2658,\n",
       " 'writing': 2792,\n",
       " 'selections': 2145,\n",
       " 'want': 2697,\n",
       " 'gross': 1103,\n",
       " 'chills': 410,\n",
       " 'alexander': 93,\n",
       " 'nevsky': 1664,\n",
       " 'amazing': 102,\n",
       " 'artist': 146,\n",
       " 'lived': 1468,\n",
       " 'pretentious': 1878,\n",
       " 'piece': 1805,\n",
       " 'planned': 1816,\n",
       " 'dodge': 703,\n",
       " 'stratus': 2333,\n",
       " 'big': 243,\n",
       " 'shots': 2193,\n",
       " 'gonna': 1074,\n",
       " 'help': 1160,\n",
       " 'makers': 1518,\n",
       " 'aren': 138,\n",
       " 'restrained': 2024,\n",
       " 'business': 324,\n",
       " 'québec': 1937,\n",
       " 'given': 1062,\n",
       " 'years': 2800,\n",
       " 'needed': 1653,\n",
       " 'word': 2770,\n",
       " 'mouth': 1621,\n",
       " 'promote': 1898,\n",
       " 'overall': 1730,\n",
       " 'interesting': 1301,\n",
       " 'provoking': 1907,\n",
       " 'plus': 1833,\n",
       " 'paced': 1743,\n",
       " 'suited': 2375,\n",
       " 'relatively': 1994,\n",
       " 'run': 2075,\n",
       " 'gave': 1036,\n",
       " 'wind': 2754,\n",
       " 'lion': 1463,\n",
       " 'superbly': 2382,\n",
       " 'acted': 53,\n",
       " 'classic': 428,\n",
       " 'turned': 2561,\n",
       " 'pretty': 1880,\n",
       " 'decent': 614,\n",
       " 'list': 1464,\n",
       " 'horror': 1205,\n",
       " 'definitely': 624,\n",
       " 'checking': 397,\n",
       " 'problem': 1885,\n",
       " 'script': 2129,\n",
       " 'horrendous': 1200,\n",
       " 'frustration': 1010,\n",
       " 'retarded': 2028,\n",
       " 'girls': 1060,\n",
       " 'manna': 1527,\n",
       " 'heaven': 1152,\n",
       " 'terrific': 2451,\n",
       " 'occasionally': 1694,\n",
       " 'touching': 2515,\n",
       " 'evaluate': 828,\n",
       " 'lives': 1469,\n",
       " 'going': 1072,\n",
       " 'veteran': 2663,\n",
       " 'nostalgia': 1677,\n",
       " 'trip': 2543,\n",
       " 'ursula': 2638,\n",
       " 'burton': 323,\n",
       " 'nun': 1685,\n",
       " 'nuns': 1686,\n",
       " 'church': 421,\n",
       " 'looking': 1484,\n",
       " 'including': 1260,\n",
       " 'shirley': 2187,\n",
       " 'jones': 1349,\n",
       " 'rendition': 2008,\n",
       " 'way': 2722,\n",
       " 'tonight': 2503,\n",
       " 'uplifting': 2634,\n",
       " 'ending': 794,\n",
       " 'try': 2554,\n",
       " 'frankly': 998,\n",
       " 'cotton': 543,\n",
       " 'club': 441,\n",
       " 'unfaithful': 2602,\n",
       " 'embarrassing': 777,\n",
       " 'watch': 2714,\n",
       " 'lane': 1404,\n",
       " 'gere': 1050,\n",
       " 'bad': 195,\n",
       " 'dialogs': 662,\n",
       " 'extremely': 873,\n",
       " 'shallow': 2171,\n",
       " 'insincere': 1281,\n",
       " 'chick': 405,\n",
       " 'politically': 1844,\n",
       " 'correct': 539,\n",
       " 'disappointing': 680,\n",
       " 'thing': 2462,\n",
       " 'watching': 2717,\n",
       " 'scenery': 2109,\n",
       " 'house': 1211,\n",
       " 'lousy': 1494,\n",
       " 'hour': 1209,\n",
       " 'wish': 2756,\n",
       " 'bring': 305,\n",
       " 'fresh': 1003,\n",
       " 'bold': 267,\n",
       " 'helps': 1162,\n",
       " 'maybe': 1549,\n",
       " 'idiot': 1234,\n",
       " 'savant': 2096,\n",
       " 'sister': 2214,\n",
       " 'played': 1819,\n",
       " 'joy': 1351,\n",
       " 'boring': 283,\n",
       " 'occupied': 1695,\n",
       " 'peaking': 1774,\n",
       " 'paper': 1757,\n",
       " 'instead': 1287,\n",
       " 'happened': 1129,\n",
       " 'columbo': 454,\n",
       " 'oh': 1703,\n",
       " 'mature': 1548,\n",
       " 'neighbour': 1657,\n",
       " 'misplace': 1595,\n",
       " 'weaker': 2728,\n",
       " 'episode': 813,\n",
       " 'debated': 609,\n",
       " 'sack': 2081,\n",
       " 'trumpeter': 2552,\n",
       " 'falsely': 891,\n",
       " 'accused': 48,\n",
       " 'murder': 1632,\n",
       " 'stupid': 2351,\n",
       " 'applause': 134,\n",
       " 'prelude': 1871,\n",
       " 'director': 676,\n",
       " 'edge': 757,\n",
       " 'seat': 2139,\n",
       " 'somewhat': 2253,\n",
       " 'afraid': 78,\n",
       " 'car': 344,\n",
       " 'end': 791,\n",
       " 'night': 1668,\n",
       " 'nice': 1666,\n",
       " 'advise': 73,\n",
       " 'brilliant': 303,\n",
       " 'playing': 1822,\n",
       " 'villain': 2672,\n",
       " 'rent': 2010,\n",
       " 'michael': 1579,\n",
       " 'ironside': 1316,\n",
       " 'rocked': 2055,\n",
       " 'world': 2776,\n",
       " 'social': 2247,\n",
       " 'physical': 1800,\n",
       " 'outlets': 1726,\n",
       " 'fact': 881,\n",
       " 'tremendously': 2539,\n",
       " 'chemistry': 404,\n",
       " 'ben': 233,\n",
       " 'affleck': 77,\n",
       " 'sandra': 2090,\n",
       " 'bullock': 320,\n",
       " 'couldn': 544,\n",
       " 'understand': 2591,\n",
       " 'leaving': 1428,\n",
       " 'wife': 2746,\n",
       " 'supposedly': 2388,\n",
       " 'knocked': 1386,\n",
       " 'moments': 1604,\n",
       " 'need': 1652,\n",
       " 'excruciatingly': 846,\n",
       " 'remake': 2001,\n",
       " 'friends': 1005,\n",
       " 'wedding': 2732,\n",
       " 'disappointment': 681,\n",
       " 'believe': 227,\n",
       " 'agreed': 86,\n",
       " 'stand': 2296,\n",
       " 'fear': 918,\n",
       " 'losing': 1490,\n",
       " 'network': 1663,\n",
       " 'aired': 89,\n",
       " 'dribble': 730,\n",
       " 'watched': 2716,\n",
       " 'putting': 1924,\n",
       " 'imdb': 1243,\n",
       " 'ratings': 1950,\n",
       " 'awful': 185,\n",
       " 'numbers': 1684,\n",
       " 'cases': 357,\n",
       " 'mirrormask': 1591,\n",
       " 'unsatisfactory': 2631,\n",
       " 'experience': 858,\n",
       " 'unfortunately': 2606,\n",
       " 'inexperience': 1275,\n",
       " 'direction': 675,\n",
       " 'meant': 1557,\n",
       " 'passed': 1766,\n",
       " 'dramatic': 724,\n",
       " 'tension': 2445,\n",
       " 'conflict': 494,\n",
       " 'central': 370,\n",
       " 'themes': 2460,\n",
       " 'handled': 1122,\n",
       " 'ineptly': 1274,\n",
       " 'stereotypically': 2315,\n",
       " 'depth': 639,\n",
       " 'imagination': 1240,\n",
       " 'pictures': 1804,\n",
       " 'flawed': 960,\n",
       " 'core': 536,\n",
       " 'following': 972,\n",
       " 'bunch': 322,\n",
       " 'high': 1171,\n",
       " 'schoolers': 2114,\n",
       " 'whine': 2739,\n",
       " 'relate': 1988,\n",
       " 'hell': 1157,\n",
       " 'barely': 207,\n",
       " 'cult': 581,\n",
       " 'viewing': 2670,\n",
       " 'sharing': 2175,\n",
       " 'disaster': 682,\n",
       " 'confuses': 495,\n",
       " 'incredibly': 1265,\n",
       " 'fish': 950,\n",
       " 'underwater': 2597,\n",
       " 'repeated': 2012,\n",
       " 'thousand': 2471,\n",
       " 'times': 2489,\n",
       " 'truly': 2550,\n",
       " 'terrible': 2449,\n",
       " 'worse': 2778,\n",
       " 'possible': 1856,\n",
       " 'redeemed': 1977,\n",
       " 'mst3k': 1629,\n",
       " 'fodder': 970,\n",
       " 'paid': 1746,\n",
       " 'treat': 2535,\n",
       " 'anthony': 126,\n",
       " 'quinn': 1935,\n",
       " 'crazy': 559,\n",
       " 'horse': 1206,\n",
       " 'whatsoever': 2738,\n",
       " 'horrible': 1202,\n",
       " 'gosh': 1079,\n",
       " 'walk': 2694,\n",
       " 'theatre': 2456,\n",
       " 'minutes': 1590,\n",
       " 'relief': 1998,\n",
       " 'hate': 1135,\n",
       " 'yeah': 2798,\n",
       " 'sucked': 2369,\n",
       " 'storyline': 2328,\n",
       " 'pillow': 1808,\n",
       " 'girlfriend': 1059,\n",
       " 'boyfriend': 290,\n",
       " 'gone': 1073,\n",
       " 'disliked': 690,\n",
       " 'tickets': 2483,\n",
       " 'dollars': 708,\n",
       " 'mad': 1511,\n",
       " '50': 24,\n",
       " 'identifies': 1232,\n",
       " 'cardboard': 346,\n",
       " 'cutouts': 588,\n",
       " 'stereotypes': 2314,\n",
       " 'predictably': 1869,\n",
       " 'reverse': 2034,\n",
       " 'ugly': 2573,\n",
       " 'cartoon': 354,\n",
       " 'crafted': 553,\n",
       " 'paul': 1772,\n",
       " 'haggis': 1114,\n",
       " 'handle': 1121,\n",
       " 'strokes': 2339,\n",
       " 'storytelling': 2329,\n",
       " 'painted': 1750,\n",
       " 'crayons': 558,\n",
       " 'crash': 555,\n",
       " 'depressing': 638,\n",
       " 'provokes': 1906,\n",
       " 'emotion': 783,\n",
       " 'teaches': 2429,\n",
       " 'know': 1387,\n",
       " 'racism': 1940,\n",
       " 'prejudice': 1870,\n",
       " 'empowerment': 787,\n",
       " 'women': 2760,\n",
       " 'brain': 292,\n",
       " 'attempt': 164,\n",
       " 'shut': 2197,\n",
       " 'primal': 1882,\n",
       " 'impulse': 1256,\n",
       " 'self': 2146,\n",
       " 'preservation': 1876,\n",
       " 'left': 1430,\n",
       " 'shattered': 2178,\n",
       " 'took': 2506,\n",
       " 'fully': 1013,\n",
       " 'recover': 1975,\n",
       " 'joins': 1345,\n",
       " 'revenge': 2032,\n",
       " 'boogeyman': 274,\n",
       " 'zombiez': 2810,\n",
       " 'hellish': 1158,\n",
       " 'trinity': 2542,\n",
       " 'mean': 1553,\n",
       " 'distinction': 694,\n",
       " 'redeeming': 1978,\n",
       " 'features': 920,\n",
       " 'appalling': 129,\n",
       " 'artless': 148,\n",
       " 'endlessly': 795,\n",
       " 'presents': 1875,\n",
       " 'ugliest': 2572,\n",
       " 'setting': 2165,\n",
       " 'lead': 1422,\n",
       " 'charisma': 386,\n",
       " 'free': 999,\n",
       " 'merit': 1573,\n",
       " 'akin': 91,\n",
       " 'torture': 2509,\n",
       " 'reasonable': 1966,\n",
       " 'explanation': 863,\n",
       " 'atrocity': 163,\n",
       " 'pleasant': 1824,\n",
       " 'voyage': 2690,\n",
       " 'discovery': 686,\n",
       " 'highly': 1175,\n",
       " 'unrecommended': 2628,\n",
       " 'premise': 1872,\n",
       " 'sound': 2263,\n",
       " 'performance': 1784,\n",
       " 'ms': 1628,\n",
       " 'garbo': 1032,\n",
       " 'bat': 214,\n",
       " 'talents': 2419,\n",
       " 'carry': 352,\n",
       " 'silent': 2203,\n",
       " 'era': 816,\n",
       " 'wanted': 2698,\n",
       " 'netflix': 1662,\n",
       " 'stocking': 2321,\n",
       " 'renowned': 2009,\n",
       " 'screenwriter': 2127,\n",
       " 'frances': 996,\n",
       " 'marion': 1532,\n",
       " 'hasn': 1134,\n",
       " 'missed': 1597,\n",
       " 'step': 2312,\n",
       " 'suffered': 2371,\n",
       " 'close': 438,\n",
       " 'ups': 2636,\n",
       " 'drag': 721,\n",
       " 'heroes': 1166,\n",
       " 'freedom': 1000,\n",
       " 'ones': 1711,\n",
       " 'received': 1969,\n",
       " 'age': 81,\n",
       " 'john': 1344,\n",
       " 'wayne': 2724,\n",
       " 'incredible': 1264,\n",
       " 'job': 1341,\n",
       " 'industry': 1273,\n",
       " 'shined': 2186,\n",
       " 'senior': 2149,\n",
       " 'older': 1707,\n",
       " 'indulgent': 1272,\n",
       " 'junk': 1360,\n",
       " 'probably': 1884,\n",
       " 'hadn': 1113,\n",
       " 'spent': 2279,\n",
       " 'showcasing': 2194,\n",
       " 'isn': 1319,\n",
       " 'noteworthy': 1681,\n",
       " 'got': 1080,\n",
       " 'punched': 1916,\n",
       " 'gallon': 1027,\n",
       " 'blood': 258,\n",
       " 'spew': 2280,\n",
       " 'forth': 992,\n",
       " 'soon': 2257,\n",
       " 'jamie': 1327,\n",
       " 'foxx': 995,\n",
       " 'ray': 1953,\n",
       " 'charles': 388,\n",
       " 'genius': 1044,\n",
       " 'owns': 1740,\n",
       " 'spacek': 2271,\n",
       " 'owned': 1739,\n",
       " 'coal': 443,\n",
       " 'miner': 1586,\n",
       " 'daughter': 599,\n",
       " 'quaid': 1927,\n",
       " 'balls': 204,\n",
       " 'remember': 2003,\n",
       " 'legendary': 1432,\n",
       " 'provided': 1905,\n",
       " 'biographical': 246,\n",
       " 'material': 1544,\n",
       " 'goes': 1071,\n",
       " 'musician': 1637,\n",
       " 'hitchcock': 1181,\n",
       " 'ironically': 1314,\n",
       " 'total': 2511,\n",
       " 'secondly': 2142,\n",
       " 'perfected': 1782,\n",
       " 'thriller': 2475,\n",
       " 'chase': 392,\n",
       " 'pandering': 1753,\n",
       " 'sabotages': 2080,\n",
       " 'certain': 372,\n",
       " 'rumbles': 2074,\n",
       " 'machine': 1510,\n",
       " 'desperately': 649,\n",
       " 'depending': 634,\n",
       " 'new': 1665,\n",
       " 'usual': 2645,\n",
       " 'logic': 1477,\n",
       " 'flaws': 961,\n",
       " 'mishima': 1594,\n",
       " 'uninteresting': 2609,\n",
       " 'chilly': 411,\n",
       " 'unremarkable': 2629,\n",
       " 'author': 175,\n",
       " 'living': 1470,\n",
       " 'working': 2774,\n",
       " 'abstruse': 39,\n",
       " 'culture': 582,\n",
       " 'reenactments': 1979,\n",
       " 'hold': 1185,\n",
       " 'attention': 168,\n",
       " 'emotionally': 784,\n",
       " 'adrift': 71,\n",
       " 'stagy': 2295,\n",
       " 'sits': 2220,\n",
       " 'soldiers': 2248,\n",
       " 'singing': 2209,\n",
       " 'masculinity': 1538,\n",
       " 'pledge': 1828,\n",
       " 'hairsplitting': 1116,\n",
       " 'purity': 1923,\n",
       " 'admiration': 68,\n",
       " 'swords': 2407,\n",
       " 'bore': 281,\n",
       " 'kill': 1376,\n",
       " 'momentum': 1605,\n",
       " 'quicker': 1933,\n",
       " 'schrader': 2115,\n",
       " 'resume': 2027,\n",
       " 'amateurish': 99,\n",
       " '80s': 30,\n",
       " 'fascinated': 905,\n",
       " 'dancing': 595,\n",
       " 'recently': 1971,\n",
       " 'dvd': 744,\n",
       " 'completely': 475,\n",
       " 'struck': 2341,\n",
       " 'contained': 512,\n",
       " 'holes': 1188,\n",
       " 'inconsistencies': 1262,\n",
       " 'horrid': 1203,\n",
       " 'realistic': 1960,\n",
       " 'gotten': 1083,\n",
       " 'ballet': 203,\n",
       " 'repertory': 2015,\n",
       " 'pathetic': 1770,\n",
       " 'developments': 658,\n",
       " 'lacked': 1397,\n",
       " 'woa': 2759,\n",
       " 'talk': 2420,\n",
       " 'sappiest': 2091,\n",
       " 'unwatchable': 2632,\n",
       " 'tell': 2441,\n",
       " 'talent': 2417,\n",
       " 'action': 55,\n",
       " 'check': 396,\n",
       " 'filmography': 939,\n",
       " 'site': 2218,\n",
       " 'chance': 378,\n",
       " 'intentions': 1298,\n",
       " 'master': 1540,\n",
       " 'theme': 2459,\n",
       " 'undertone': 2596,\n",
       " 'fifties': 934,\n",
       " 'existential': 852,\n",
       " 'weariness': 2729,\n",
       " 'aerial': 74,\n",
       " 'ought': 1724,\n",
       " 'thrilled': 2474,\n",
       " 'senses': 2151,\n",
       " 'deeply': 621,\n",
       " 'care': 348,\n",
       " 'regrettably': 1986,\n",
       " 'fails': 884,\n",
       " 'visual': 2679,\n",
       " 'drama': 723,\n",
       " 'expression': 867,\n",
       " 'celebration': 366,\n",
       " 'patriotism': 1771,\n",
       " 'underlines': 2587,\n",
       " 'narrative': 1641,\n",
       " 'actress': 59,\n",
       " 'used': 2640,\n",
       " 'june': 1359,\n",
       " 'allison': 95,\n",
       " 'plain': 1814,\n",
       " 'called': 329,\n",
       " 'soundtrack': 2266,\n",
       " 'concert': 488,\n",
       " 'sequences': 2159,\n",
       " 'cheap': 394,\n",
       " 'trash': 2531,\n",
       " 'considering': 505,\n",
       " 'ridiculousness': 2042,\n",
       " 'came': 331,\n",
       " 'angry': 115,\n",
       " 'spoilers': 2288,\n",
       " 'said': 2084,\n",
       " 'surface': 2392,\n",
       " 'stunning': 2350,\n",
       " 'fx': 1021,\n",
       " 'state': 2306,\n",
       " 'conceptually': 485,\n",
       " 'offers': 1702,\n",
       " 'everybody': 830,\n",
       " 'fantasy': 901,\n",
       " 'fans': 899,\n",
       " 'sour': 2267,\n",
       " 'note': 1680,\n",
       " 'wise': 2755,\n",
       " 'surprisingly': 2396,\n",
       " 'solid': 2250,\n",
       " 'considered': 504,\n",
       " 'thanks': 2454,\n",
       " 'released': 1997,\n",
       " 'mexican': 1578,\n",
       " 'understood': 2595,\n",
       " 'matter': 1546,\n",
       " 'identified': 1231,\n",
       " 'felt': 927,\n",
       " 'ranks': 1945,\n",
       " 'noir': 1671,\n",
       " 'crime': 570,\n",
       " 'belmondo': 232,\n",
       " 'lino': 1462,\n",
       " 'ventura': 2656,\n",
       " 'complex': 476,\n",
       " 'psychological': 1910,\n",
       " 'portrayals': 1852,\n",
       " 'detailing': 654,\n",
       " 'loyalty': 1502,\n",
       " 'treachery': 2533,\n",
       " 'hope': 1197,\n",
       " 'tremendous': 2538,\n",
       " 'melville': 1562,\n",
       " 'journey': 1350,\n",
       " 'eyes': 875,\n",
       " 'soul': 2262,\n",
       " 'child': 406,\n",
       " 'water': 2718,\n",
       " 'manages': 1526,\n",
       " 'transcend': 2526,\n",
       " 'limitations': 1456,\n",
       " 'indie': 1269,\n",
       " 'continually': 516,\n",
       " 'subverting': 2364,\n",
       " 'expectations': 855,\n",
       " 'emerge': 779,\n",
       " 'intense': 1296,\n",
       " 'gripping': 1101,\n",
       " 'crocdodile': 574,\n",
       " 'website': 2731,\n",
       " 'believed': 228,\n",
       " 'crocs': 575,\n",
       " 'swamp': 2403,\n",
       " 'location': 1474,\n",
       " 'fabulous': 876,\n",
       " 'thoroughly': 2467,\n",
       " 'christopher': 420,\n",
       " 'eccleston': 755,\n",
       " 'control': 526,\n",
       " 'tardis': 2423,\n",
       " 'continuation': 517,\n",
       " 'turn': 2560,\n",
       " 'day': 601,\n",
       " 'disturbing': 698,\n",
       " 'memories': 1566,\n",
       " 'succeeded': 2365,\n",
       " 'places': 1813,\n",
       " 'forced': 978,\n",
       " 'pi': 1801,\n",
       " 'started': 2304,\n",
       " 'jerky': 1334,\n",
       " 'camerawork': 334,\n",
       " 'theater': 2455,\n",
       " 'sick': 2199,\n",
       " 'summary': 2377,\n",
       " 'witticisms': 2757,\n",
       " 'weren': 2737,\n",
       " 'witty': 2758,\n",
       " 'billy': 245,\n",
       " 'bob': 263,\n",
       " 'rise': 2046,\n",
       " 'rating': 1949,\n",
       " 'finale': 942,\n",
       " 'possibly': 1857,\n",
       " 'trilogy': 2541,\n",
       " 'kieslowski': 1375,\n",
       " 'ceases': 365,\n",
       " 'amaze': 100,\n",
       " 'favourite': 917,\n",
       " 'directors': 678,\n",
       " 'use': 2639,\n",
       " 'colours': 453,\n",
       " 'flag': 954,\n",
       " 'shot': 2192,\n",
       " 'visually': 2680,\n",
       " 'subtle': 2362,\n",
       " 'connections': 497,\n",
       " 'awesome': 184,\n",
       " 'mention': 1570,\n",
       " 'huge': 1216,\n",
       " 'spoiler': 2287,\n",
       " 'remaining': 2000,\n",
       " 'survivors': 2399,\n",
       " 'ferry': 930,\n",
       " ...}"
      ]
     },
     "execution_count": 84,
     "metadata": {},
     "output_type": "execute_result"
    }
   ],
   "source": [
    "cv.vocabulary_ # mapping of column position to actual words"
   ]
  },
  {
   "cell_type": "code",
   "execution_count": 85,
   "metadata": {},
   "outputs": [
    {
     "data": {
      "text/html": [
       "<div>\n",
       "<style scoped>\n",
       "    .dataframe tbody tr th:only-of-type {\n",
       "        vertical-align: middle;\n",
       "    }\n",
       "\n",
       "    .dataframe tbody tr th {\n",
       "        vertical-align: top;\n",
       "    }\n",
       "\n",
       "    .dataframe thead th {\n",
       "        text-align: right;\n",
       "    }\n",
       "</style>\n",
       "<table border=\"1\" class=\"dataframe\">\n",
       "  <thead>\n",
       "    <tr style=\"text-align: right;\">\n",
       "      <th></th>\n",
       "      <th>10</th>\n",
       "      <th>12</th>\n",
       "      <th>13</th>\n",
       "      <th>15</th>\n",
       "      <th>15pm</th>\n",
       "      <th>17</th>\n",
       "      <th>18th</th>\n",
       "      <th>1928</th>\n",
       "      <th>1947</th>\n",
       "      <th>1948</th>\n",
       "      <th>...</th>\n",
       "      <th>yelps</th>\n",
       "      <th>yes</th>\n",
       "      <th>young</th>\n",
       "      <th>younger</th>\n",
       "      <th>youthful</th>\n",
       "      <th>youtube</th>\n",
       "      <th>yun</th>\n",
       "      <th>zillion</th>\n",
       "      <th>zombie</th>\n",
       "      <th>zombiez</th>\n",
       "    </tr>\n",
       "  </thead>\n",
       "  <tbody>\n",
       "    <tr>\n",
       "      <th>R0</th>\n",
       "      <td>0</td>\n",
       "      <td>0</td>\n",
       "      <td>0</td>\n",
       "      <td>0</td>\n",
       "      <td>0</td>\n",
       "      <td>0</td>\n",
       "      <td>0</td>\n",
       "      <td>0</td>\n",
       "      <td>0</td>\n",
       "      <td>0</td>\n",
       "      <td>...</td>\n",
       "      <td>0</td>\n",
       "      <td>0</td>\n",
       "      <td>1</td>\n",
       "      <td>0</td>\n",
       "      <td>0</td>\n",
       "      <td>0</td>\n",
       "      <td>0</td>\n",
       "      <td>0</td>\n",
       "      <td>0</td>\n",
       "      <td>0</td>\n",
       "    </tr>\n",
       "    <tr>\n",
       "      <th>R1</th>\n",
       "      <td>0</td>\n",
       "      <td>0</td>\n",
       "      <td>0</td>\n",
       "      <td>0</td>\n",
       "      <td>0</td>\n",
       "      <td>0</td>\n",
       "      <td>0</td>\n",
       "      <td>0</td>\n",
       "      <td>0</td>\n",
       "      <td>0</td>\n",
       "      <td>...</td>\n",
       "      <td>0</td>\n",
       "      <td>0</td>\n",
       "      <td>0</td>\n",
       "      <td>0</td>\n",
       "      <td>0</td>\n",
       "      <td>0</td>\n",
       "      <td>0</td>\n",
       "      <td>0</td>\n",
       "      <td>0</td>\n",
       "      <td>0</td>\n",
       "    </tr>\n",
       "  </tbody>\n",
       "</table>\n",
       "<p>2 rows × 2811 columns</p>\n",
       "</div>"
      ],
      "text/plain": [
       "    10  12  13  15  15pm  17  18th  1928  1947  1948   ...     yelps  yes  \\\n",
       "R0   0   0   0   0     0   0     0     0     0     0   ...         0    0   \n",
       "R1   0   0   0   0     0   0     0     0     0     0   ...         0    0   \n",
       "\n",
       "    young  younger  youthful  youtube  yun  zillion  zombie  zombiez  \n",
       "R0      1        0         0        0    0        0       0        0  \n",
       "R1      0        0         0        0    0        0       0        0  \n",
       "\n",
       "[2 rows x 2811 columns]"
      ]
     },
     "execution_count": 85,
     "metadata": {},
     "output_type": "execute_result"
    }
   ],
   "source": [
    "words_bow_df.head(2)"
   ]
  },
  {
   "cell_type": "code",
   "execution_count": 86,
   "metadata": {},
   "outputs": [
    {
     "data": {
      "text/plain": [
       "0"
      ]
     },
     "execution_count": 86,
     "metadata": {},
     "output_type": "execute_result"
    }
   ],
   "source": [
    "cv.vocabulary_['10'] #10 is the 0th word"
   ]
  },
  {
   "cell_type": "code",
   "execution_count": 87,
   "metadata": {},
   "outputs": [
    {
     "data": {
      "text/plain": [
       "4"
      ]
     },
     "execution_count": 87,
     "metadata": {},
     "output_type": "execute_result"
    }
   ],
   "source": [
    "cv.vocabulary_['15pm'] # 15pm is the 4th word"
   ]
  },
  {
   "cell_type": "markdown",
   "metadata": {},
   "source": [
    "**Lets take A deeper look as to what Countvectorizer is achieving**"
   ]
  },
  {
   "cell_type": "code",
   "execution_count": 88,
   "metadata": {},
   "outputs": [
    {
     "data": {
      "text/plain": [
       "'Very little music or anything to speak of.  '"
      ]
     },
     "execution_count": 88,
     "metadata": {},
     "output_type": "execute_result"
    }
   ],
   "source": [
    "imdb['Review'][3] # Review with index position 3"
   ]
  },
  {
   "cell_type": "code",
   "execution_count": 89,
   "metadata": {},
   "outputs": [
    {
     "data": {
      "text/plain": [
       "<1x2811 sparse matrix of type '<class 'numpy.int64'>'\n",
       "\twith 3 stored elements in Compressed Sparse Row format>"
      ]
     },
     "execution_count": 89,
     "metadata": {},
     "output_type": "execute_result"
    }
   ],
   "source": [
    "words_bow[3,:] # this just shows as a sparse matrix"
   ]
  },
  {
   "cell_type": "code",
   "execution_count": 90,
   "metadata": {},
   "outputs": [
    {
     "name": "stdout",
     "output_type": "stream",
     "text": [
      "  (0, 2274)\t1\n",
      "  (0, 1636)\t1\n",
      "  (0, 1467)\t1\n"
     ]
    }
   ],
   "source": [
    "print (words_bow[3,:]) # printing this sparse matrix shows us words are present at what column position"
   ]
  },
  {
   "cell_type": "code",
   "execution_count": 91,
   "metadata": {},
   "outputs": [
    {
     "data": {
      "text/plain": [
       "array([[0, 0, 0, ..., 0, 0, 0]], dtype=int64)"
      ]
     },
     "execution_count": 91,
     "metadata": {},
     "output_type": "execute_result"
    }
   ],
   "source": [
    "words_bow[3].toarray() # use this to see it as a Numpy array instead of a sparse matrix."
   ]
  },
  {
   "cell_type": "code",
   "execution_count": 92,
   "metadata": {},
   "outputs": [
    {
     "data": {
      "text/html": [
       "<div>\n",
       "<style scoped>\n",
       "    .dataframe tbody tr th:only-of-type {\n",
       "        vertical-align: middle;\n",
       "    }\n",
       "\n",
       "    .dataframe tbody tr th {\n",
       "        vertical-align: top;\n",
       "    }\n",
       "\n",
       "    .dataframe thead th {\n",
       "        text-align: right;\n",
       "    }\n",
       "</style>\n",
       "<table border=\"1\" class=\"dataframe\">\n",
       "  <thead>\n",
       "    <tr style=\"text-align: right;\">\n",
       "      <th></th>\n",
       "      <th>10</th>\n",
       "      <th>12</th>\n",
       "      <th>13</th>\n",
       "      <th>15</th>\n",
       "      <th>15pm</th>\n",
       "      <th>17</th>\n",
       "      <th>18th</th>\n",
       "      <th>1928</th>\n",
       "      <th>1947</th>\n",
       "      <th>1948</th>\n",
       "      <th>...</th>\n",
       "      <th>yelps</th>\n",
       "      <th>yes</th>\n",
       "      <th>young</th>\n",
       "      <th>younger</th>\n",
       "      <th>youthful</th>\n",
       "      <th>youtube</th>\n",
       "      <th>yun</th>\n",
       "      <th>zillion</th>\n",
       "      <th>zombie</th>\n",
       "      <th>zombiez</th>\n",
       "    </tr>\n",
       "  </thead>\n",
       "  <tbody>\n",
       "    <tr>\n",
       "      <th>R3</th>\n",
       "      <td>0</td>\n",
       "      <td>0</td>\n",
       "      <td>0</td>\n",
       "      <td>0</td>\n",
       "      <td>0</td>\n",
       "      <td>0</td>\n",
       "      <td>0</td>\n",
       "      <td>0</td>\n",
       "      <td>0</td>\n",
       "      <td>0</td>\n",
       "      <td>...</td>\n",
       "      <td>0</td>\n",
       "      <td>0</td>\n",
       "      <td>0</td>\n",
       "      <td>0</td>\n",
       "      <td>0</td>\n",
       "      <td>0</td>\n",
       "      <td>0</td>\n",
       "      <td>0</td>\n",
       "      <td>0</td>\n",
       "      <td>0</td>\n",
       "    </tr>\n",
       "  </tbody>\n",
       "</table>\n",
       "<p>1 rows × 2811 columns</p>\n",
       "</div>"
      ],
      "text/plain": [
       "    10  12  13  15  15pm  17  18th  1928  1947  1948   ...     yelps  yes  \\\n",
       "R3   0   0   0   0     0   0     0     0     0     0   ...         0    0   \n",
       "\n",
       "    young  younger  youthful  youtube  yun  zillion  zombie  zombiez  \n",
       "R3      0        0         0        0    0        0       0        0  \n",
       "\n",
       "[1 rows x 2811 columns]"
      ]
     },
     "execution_count": 92,
     "metadata": {},
     "output_type": "execute_result"
    }
   ],
   "source": [
    "words_bow_df.iloc[3:4, :]"
   ]
  },
  {
   "cell_type": "code",
   "execution_count": 93,
   "metadata": {},
   "outputs": [
    {
     "data": {
      "text/plain": [
       "little    1\n",
       "music     1\n",
       "speak     1\n",
       "Name: R3, dtype: int64"
      ]
     },
     "execution_count": 93,
     "metadata": {},
     "output_type": "execute_result"
    }
   ],
   "source": [
    "words_bow_df.loc['R3', words_bow_df.loc['R3',:].gt(0)] #looking at it as a dataframe might make it easy"
   ]
  },
  {
   "cell_type": "code",
   "execution_count": 94,
   "metadata": {},
   "outputs": [
    {
     "data": {
      "text/plain": [
       "[1467, 1636, 2274]"
      ]
     },
     "execution_count": 94,
     "metadata": {},
     "output_type": "execute_result"
    }
   ],
   "source": [
    "[v for k,v in cv.vocabulary_.items() if k in ['little', 'music', 'speak']]"
   ]
  },
  {
   "cell_type": "markdown",
   "metadata": {},
   "source": [
    "**Lets look at another review**"
   ]
  },
  {
   "cell_type": "code",
   "execution_count": 95,
   "metadata": {},
   "outputs": [
    {
     "data": {
      "text/plain": [
       "'It\\'s practically perfect in all of them \\x96 a true masterpiece in a sea of faux \"masterpieces.  '"
      ]
     },
     "execution_count": 95,
     "metadata": {},
     "output_type": "execute_result"
    }
   ],
   "source": [
    "imdb['Review'][18]"
   ]
  },
  {
   "cell_type": "code",
   "execution_count": 96,
   "metadata": {},
   "outputs": [
    {
     "data": {
      "text/plain": [
       "faux            1\n",
       "masterpiece     1\n",
       "masterpieces    1\n",
       "perfect         1\n",
       "practically     1\n",
       "sea             1\n",
       "true            1\n",
       "Name: R18, dtype: int64"
      ]
     },
     "execution_count": 96,
     "metadata": {},
     "output_type": "execute_result"
    }
   ],
   "source": [
    "words_bow_df.loc['R18', words_bow_df.loc['R18',:].gt(0)] #need to be careful as to what default Countvectorizer is doing."
   ]
  },
  {
   "cell_type": "markdown",
   "metadata": {},
   "source": [
    "**Ok, so where are we?**"
   ]
  },
  {
   "cell_type": "code",
   "execution_count": 97,
   "metadata": {},
   "outputs": [
    {
     "data": {
      "text/html": [
       "<div>\n",
       "<style scoped>\n",
       "    .dataframe tbody tr th:only-of-type {\n",
       "        vertical-align: middle;\n",
       "    }\n",
       "\n",
       "    .dataframe tbody tr th {\n",
       "        vertical-align: top;\n",
       "    }\n",
       "\n",
       "    .dataframe thead th {\n",
       "        text-align: right;\n",
       "    }\n",
       "</style>\n",
       "<table border=\"1\" class=\"dataframe\">\n",
       "  <thead>\n",
       "    <tr style=\"text-align: right;\">\n",
       "      <th></th>\n",
       "      <th>Review</th>\n",
       "      <th>Sentiment</th>\n",
       "      <th>Length</th>\n",
       "    </tr>\n",
       "  </thead>\n",
       "  <tbody>\n",
       "    <tr>\n",
       "      <th>R0</th>\n",
       "      <td>A very, very, very slow-moving, aimless movie ...</td>\n",
       "      <td>0</td>\n",
       "      <td>87</td>\n",
       "    </tr>\n",
       "    <tr>\n",
       "      <th>R1</th>\n",
       "      <td>Not sure who was more lost - the flat characte...</td>\n",
       "      <td>0</td>\n",
       "      <td>99</td>\n",
       "    </tr>\n",
       "    <tr>\n",
       "      <th>R2</th>\n",
       "      <td>Attempting artiness with black &amp; white and cle...</td>\n",
       "      <td>0</td>\n",
       "      <td>188</td>\n",
       "    </tr>\n",
       "  </tbody>\n",
       "</table>\n",
       "</div>"
      ],
      "text/plain": [
       "                                               Review  Sentiment  Length\n",
       "R0  A very, very, very slow-moving, aimless movie ...          0      87\n",
       "R1  Not sure who was more lost - the flat characte...          0      99\n",
       "R2  Attempting artiness with black & white and cle...          0     188"
      ]
     },
     "execution_count": 97,
     "metadata": {},
     "output_type": "execute_result"
    }
   ],
   "source": [
    "imdb.head(3) # we converted the 'Review' column of this imdb data frame into a bag of words document listed below."
   ]
  },
  {
   "cell_type": "code",
   "execution_count": 98,
   "metadata": {},
   "outputs": [
    {
     "data": {
      "text/html": [
       "<div>\n",
       "<style scoped>\n",
       "    .dataframe tbody tr th:only-of-type {\n",
       "        vertical-align: middle;\n",
       "    }\n",
       "\n",
       "    .dataframe tbody tr th {\n",
       "        vertical-align: top;\n",
       "    }\n",
       "\n",
       "    .dataframe thead th {\n",
       "        text-align: right;\n",
       "    }\n",
       "</style>\n",
       "<table border=\"1\" class=\"dataframe\">\n",
       "  <thead>\n",
       "    <tr style=\"text-align: right;\">\n",
       "      <th></th>\n",
       "      <th>10</th>\n",
       "      <th>12</th>\n",
       "      <th>13</th>\n",
       "      <th>15</th>\n",
       "      <th>15pm</th>\n",
       "      <th>17</th>\n",
       "      <th>18th</th>\n",
       "      <th>1928</th>\n",
       "      <th>1947</th>\n",
       "      <th>1948</th>\n",
       "      <th>...</th>\n",
       "      <th>yelps</th>\n",
       "      <th>yes</th>\n",
       "      <th>young</th>\n",
       "      <th>younger</th>\n",
       "      <th>youthful</th>\n",
       "      <th>youtube</th>\n",
       "      <th>yun</th>\n",
       "      <th>zillion</th>\n",
       "      <th>zombie</th>\n",
       "      <th>zombiez</th>\n",
       "    </tr>\n",
       "  </thead>\n",
       "  <tbody>\n",
       "    <tr>\n",
       "      <th>R0</th>\n",
       "      <td>0</td>\n",
       "      <td>0</td>\n",
       "      <td>0</td>\n",
       "      <td>0</td>\n",
       "      <td>0</td>\n",
       "      <td>0</td>\n",
       "      <td>0</td>\n",
       "      <td>0</td>\n",
       "      <td>0</td>\n",
       "      <td>0</td>\n",
       "      <td>...</td>\n",
       "      <td>0</td>\n",
       "      <td>0</td>\n",
       "      <td>1</td>\n",
       "      <td>0</td>\n",
       "      <td>0</td>\n",
       "      <td>0</td>\n",
       "      <td>0</td>\n",
       "      <td>0</td>\n",
       "      <td>0</td>\n",
       "      <td>0</td>\n",
       "    </tr>\n",
       "    <tr>\n",
       "      <th>R1</th>\n",
       "      <td>0</td>\n",
       "      <td>0</td>\n",
       "      <td>0</td>\n",
       "      <td>0</td>\n",
       "      <td>0</td>\n",
       "      <td>0</td>\n",
       "      <td>0</td>\n",
       "      <td>0</td>\n",
       "      <td>0</td>\n",
       "      <td>0</td>\n",
       "      <td>...</td>\n",
       "      <td>0</td>\n",
       "      <td>0</td>\n",
       "      <td>0</td>\n",
       "      <td>0</td>\n",
       "      <td>0</td>\n",
       "      <td>0</td>\n",
       "      <td>0</td>\n",
       "      <td>0</td>\n",
       "      <td>0</td>\n",
       "      <td>0</td>\n",
       "    </tr>\n",
       "    <tr>\n",
       "      <th>R2</th>\n",
       "      <td>0</td>\n",
       "      <td>0</td>\n",
       "      <td>0</td>\n",
       "      <td>0</td>\n",
       "      <td>0</td>\n",
       "      <td>0</td>\n",
       "      <td>0</td>\n",
       "      <td>0</td>\n",
       "      <td>0</td>\n",
       "      <td>0</td>\n",
       "      <td>...</td>\n",
       "      <td>0</td>\n",
       "      <td>0</td>\n",
       "      <td>0</td>\n",
       "      <td>0</td>\n",
       "      <td>0</td>\n",
       "      <td>0</td>\n",
       "      <td>0</td>\n",
       "      <td>0</td>\n",
       "      <td>0</td>\n",
       "      <td>0</td>\n",
       "    </tr>\n",
       "  </tbody>\n",
       "</table>\n",
       "<p>3 rows × 2811 columns</p>\n",
       "</div>"
      ],
      "text/plain": [
       "    10  12  13  15  15pm  17  18th  1928  1947  1948   ...     yelps  yes  \\\n",
       "R0   0   0   0   0     0   0     0     0     0     0   ...         0    0   \n",
       "R1   0   0   0   0     0   0     0     0     0     0   ...         0    0   \n",
       "R2   0   0   0   0     0   0     0     0     0     0   ...         0    0   \n",
       "\n",
       "    young  younger  youthful  youtube  yun  zillion  zombie  zombiez  \n",
       "R0      1        0         0        0    0        0       0        0  \n",
       "R1      0        0         0        0    0        0       0        0  \n",
       "R2      0        0         0        0    0        0       0        0  \n",
       "\n",
       "[3 rows x 2811 columns]"
      ]
     },
     "execution_count": 98,
     "metadata": {},
     "output_type": "execute_result"
    }
   ],
   "source": [
    "words_bow_df.head(3)"
   ]
  },
  {
   "cell_type": "code",
   "execution_count": 99,
   "metadata": {},
   "outputs": [
    {
     "data": {
      "text/plain": [
       "(748, 2811)"
      ]
     },
     "execution_count": 99,
     "metadata": {},
     "output_type": "execute_result"
    }
   ],
   "source": [
    "words_bow_df.shape"
   ]
  },
  {
   "cell_type": "markdown",
   "metadata": {},
   "source": [
    "### 2.1 Applying an ML model for classification "
   ]
  },
  {
   "cell_type": "code",
   "execution_count": 100,
   "metadata": {},
   "outputs": [],
   "source": [
    "from sklearn.model_selection import train_test_split"
   ]
  },
  {
   "cell_type": "code",
   "execution_count": 101,
   "metadata": {},
   "outputs": [],
   "source": [
    "X_train, X_test, y_train, y_test = train_test_split(words_bow_df,imdb['Sentiment'], test_size = 0.2, random_state=0)"
   ]
  },
  {
   "cell_type": "code",
   "execution_count": 102,
   "metadata": {},
   "outputs": [
    {
     "data": {
      "text/plain": [
       "(598, 2811)"
      ]
     },
     "execution_count": 102,
     "metadata": {},
     "output_type": "execute_result"
    }
   ],
   "source": [
    "X_train.shape"
   ]
  },
  {
   "cell_type": "code",
   "execution_count": 103,
   "metadata": {},
   "outputs": [
    {
     "data": {
      "text/html": [
       "<div>\n",
       "<style scoped>\n",
       "    .dataframe tbody tr th:only-of-type {\n",
       "        vertical-align: middle;\n",
       "    }\n",
       "\n",
       "    .dataframe tbody tr th {\n",
       "        vertical-align: top;\n",
       "    }\n",
       "\n",
       "    .dataframe thead th {\n",
       "        text-align: right;\n",
       "    }\n",
       "</style>\n",
       "<table border=\"1\" class=\"dataframe\">\n",
       "  <thead>\n",
       "    <tr style=\"text-align: right;\">\n",
       "      <th></th>\n",
       "      <th>10</th>\n",
       "      <th>12</th>\n",
       "      <th>13</th>\n",
       "      <th>15</th>\n",
       "      <th>15pm</th>\n",
       "      <th>17</th>\n",
       "      <th>18th</th>\n",
       "      <th>1928</th>\n",
       "      <th>1947</th>\n",
       "      <th>1948</th>\n",
       "      <th>...</th>\n",
       "      <th>yelps</th>\n",
       "      <th>yes</th>\n",
       "      <th>young</th>\n",
       "      <th>younger</th>\n",
       "      <th>youthful</th>\n",
       "      <th>youtube</th>\n",
       "      <th>yun</th>\n",
       "      <th>zillion</th>\n",
       "      <th>zombie</th>\n",
       "      <th>zombiez</th>\n",
       "    </tr>\n",
       "  </thead>\n",
       "  <tbody>\n",
       "    <tr>\n",
       "      <th>R97</th>\n",
       "      <td>0</td>\n",
       "      <td>0</td>\n",
       "      <td>0</td>\n",
       "      <td>0</td>\n",
       "      <td>0</td>\n",
       "      <td>0</td>\n",
       "      <td>0</td>\n",
       "      <td>0</td>\n",
       "      <td>0</td>\n",
       "      <td>0</td>\n",
       "      <td>...</td>\n",
       "      <td>0</td>\n",
       "      <td>0</td>\n",
       "      <td>0</td>\n",
       "      <td>0</td>\n",
       "      <td>0</td>\n",
       "      <td>0</td>\n",
       "      <td>0</td>\n",
       "      <td>0</td>\n",
       "      <td>0</td>\n",
       "      <td>0</td>\n",
       "    </tr>\n",
       "    <tr>\n",
       "      <th>R516</th>\n",
       "      <td>0</td>\n",
       "      <td>0</td>\n",
       "      <td>0</td>\n",
       "      <td>0</td>\n",
       "      <td>0</td>\n",
       "      <td>0</td>\n",
       "      <td>0</td>\n",
       "      <td>0</td>\n",
       "      <td>0</td>\n",
       "      <td>0</td>\n",
       "      <td>...</td>\n",
       "      <td>0</td>\n",
       "      <td>0</td>\n",
       "      <td>0</td>\n",
       "      <td>0</td>\n",
       "      <td>0</td>\n",
       "      <td>0</td>\n",
       "      <td>0</td>\n",
       "      <td>0</td>\n",
       "      <td>0</td>\n",
       "      <td>0</td>\n",
       "    </tr>\n",
       "    <tr>\n",
       "      <th>R156</th>\n",
       "      <td>0</td>\n",
       "      <td>0</td>\n",
       "      <td>0</td>\n",
       "      <td>0</td>\n",
       "      <td>0</td>\n",
       "      <td>0</td>\n",
       "      <td>0</td>\n",
       "      <td>0</td>\n",
       "      <td>0</td>\n",
       "      <td>0</td>\n",
       "      <td>...</td>\n",
       "      <td>0</td>\n",
       "      <td>0</td>\n",
       "      <td>0</td>\n",
       "      <td>0</td>\n",
       "      <td>0</td>\n",
       "      <td>0</td>\n",
       "      <td>0</td>\n",
       "      <td>0</td>\n",
       "      <td>0</td>\n",
       "      <td>0</td>\n",
       "    </tr>\n",
       "  </tbody>\n",
       "</table>\n",
       "<p>3 rows × 2811 columns</p>\n",
       "</div>"
      ],
      "text/plain": [
       "      10  12  13  15  15pm  17  18th  1928  1947  1948   ...     yelps  yes  \\\n",
       "R97    0   0   0   0     0   0     0     0     0     0   ...         0    0   \n",
       "R516   0   0   0   0     0   0     0     0     0     0   ...         0    0   \n",
       "R156   0   0   0   0     0   0     0     0     0     0   ...         0    0   \n",
       "\n",
       "      young  younger  youthful  youtube  yun  zillion  zombie  zombiez  \n",
       "R97       0        0         0        0    0        0       0        0  \n",
       "R516      0        0         0        0    0        0       0        0  \n",
       "R156      0        0         0        0    0        0       0        0  \n",
       "\n",
       "[3 rows x 2811 columns]"
      ]
     },
     "execution_count": 103,
     "metadata": {},
     "output_type": "execute_result"
    }
   ],
   "source": [
    "X_train.head(3)"
   ]
  },
  {
   "cell_type": "code",
   "execution_count": 104,
   "metadata": {},
   "outputs": [
    {
     "data": {
      "text/plain": [
       "R97     0\n",
       "R516    1\n",
       "R156    1\n",
       "Name: Sentiment, dtype: int64"
      ]
     },
     "execution_count": 104,
     "metadata": {},
     "output_type": "execute_result"
    }
   ],
   "source": [
    "y_train[0:3]"
   ]
  },
  {
   "cell_type": "code",
   "execution_count": 105,
   "metadata": {},
   "outputs": [
    {
     "data": {
      "text/plain": [
       "(150, 2811)"
      ]
     },
     "execution_count": 105,
     "metadata": {},
     "output_type": "execute_result"
    }
   ],
   "source": [
    "X_test.shape"
   ]
  },
  {
   "cell_type": "code",
   "execution_count": 106,
   "metadata": {},
   "outputs": [
    {
     "data": {
      "text/html": [
       "<div>\n",
       "<style scoped>\n",
       "    .dataframe tbody tr th:only-of-type {\n",
       "        vertical-align: middle;\n",
       "    }\n",
       "\n",
       "    .dataframe tbody tr th {\n",
       "        vertical-align: top;\n",
       "    }\n",
       "\n",
       "    .dataframe thead th {\n",
       "        text-align: right;\n",
       "    }\n",
       "</style>\n",
       "<table border=\"1\" class=\"dataframe\">\n",
       "  <thead>\n",
       "    <tr style=\"text-align: right;\">\n",
       "      <th></th>\n",
       "      <th>10</th>\n",
       "      <th>12</th>\n",
       "      <th>13</th>\n",
       "      <th>15</th>\n",
       "      <th>15pm</th>\n",
       "      <th>17</th>\n",
       "      <th>18th</th>\n",
       "      <th>1928</th>\n",
       "      <th>1947</th>\n",
       "      <th>1948</th>\n",
       "      <th>...</th>\n",
       "      <th>yelps</th>\n",
       "      <th>yes</th>\n",
       "      <th>young</th>\n",
       "      <th>younger</th>\n",
       "      <th>youthful</th>\n",
       "      <th>youtube</th>\n",
       "      <th>yun</th>\n",
       "      <th>zillion</th>\n",
       "      <th>zombie</th>\n",
       "      <th>zombiez</th>\n",
       "    </tr>\n",
       "  </thead>\n",
       "  <tbody>\n",
       "    <tr>\n",
       "      <th>R258</th>\n",
       "      <td>0</td>\n",
       "      <td>0</td>\n",
       "      <td>0</td>\n",
       "      <td>0</td>\n",
       "      <td>0</td>\n",
       "      <td>0</td>\n",
       "      <td>0</td>\n",
       "      <td>0</td>\n",
       "      <td>0</td>\n",
       "      <td>0</td>\n",
       "      <td>...</td>\n",
       "      <td>0</td>\n",
       "      <td>0</td>\n",
       "      <td>0</td>\n",
       "      <td>0</td>\n",
       "      <td>0</td>\n",
       "      <td>0</td>\n",
       "      <td>0</td>\n",
       "      <td>0</td>\n",
       "      <td>0</td>\n",
       "      <td>0</td>\n",
       "    </tr>\n",
       "    <tr>\n",
       "      <th>R521</th>\n",
       "      <td>0</td>\n",
       "      <td>0</td>\n",
       "      <td>0</td>\n",
       "      <td>0</td>\n",
       "      <td>0</td>\n",
       "      <td>0</td>\n",
       "      <td>0</td>\n",
       "      <td>0</td>\n",
       "      <td>0</td>\n",
       "      <td>0</td>\n",
       "      <td>...</td>\n",
       "      <td>0</td>\n",
       "      <td>0</td>\n",
       "      <td>0</td>\n",
       "      <td>0</td>\n",
       "      <td>0</td>\n",
       "      <td>0</td>\n",
       "      <td>0</td>\n",
       "      <td>0</td>\n",
       "      <td>0</td>\n",
       "      <td>0</td>\n",
       "    </tr>\n",
       "    <tr>\n",
       "      <th>R14</th>\n",
       "      <td>0</td>\n",
       "      <td>0</td>\n",
       "      <td>0</td>\n",
       "      <td>0</td>\n",
       "      <td>0</td>\n",
       "      <td>0</td>\n",
       "      <td>0</td>\n",
       "      <td>0</td>\n",
       "      <td>0</td>\n",
       "      <td>0</td>\n",
       "      <td>...</td>\n",
       "      <td>0</td>\n",
       "      <td>0</td>\n",
       "      <td>0</td>\n",
       "      <td>0</td>\n",
       "      <td>0</td>\n",
       "      <td>0</td>\n",
       "      <td>0</td>\n",
       "      <td>0</td>\n",
       "      <td>0</td>\n",
       "      <td>0</td>\n",
       "    </tr>\n",
       "  </tbody>\n",
       "</table>\n",
       "<p>3 rows × 2811 columns</p>\n",
       "</div>"
      ],
      "text/plain": [
       "      10  12  13  15  15pm  17  18th  1928  1947  1948   ...     yelps  yes  \\\n",
       "R258   0   0   0   0     0   0     0     0     0     0   ...         0    0   \n",
       "R521   0   0   0   0     0   0     0     0     0     0   ...         0    0   \n",
       "R14    0   0   0   0     0   0     0     0     0     0   ...         0    0   \n",
       "\n",
       "      young  younger  youthful  youtube  yun  zillion  zombie  zombiez  \n",
       "R258      0        0         0        0    0        0       0        0  \n",
       "R521      0        0         0        0    0        0       0        0  \n",
       "R14       0        0         0        0    0        0       0        0  \n",
       "\n",
       "[3 rows x 2811 columns]"
      ]
     },
     "execution_count": 106,
     "metadata": {},
     "output_type": "execute_result"
    }
   ],
   "source": [
    "X_test.head(3)"
   ]
  },
  {
   "cell_type": "code",
   "execution_count": 107,
   "metadata": {},
   "outputs": [
    {
     "data": {
      "text/plain": [
       "R258    0\n",
       "R521    0\n",
       "R14     1\n",
       "Name: Sentiment, dtype: int64"
      ]
     },
     "execution_count": 107,
     "metadata": {},
     "output_type": "execute_result"
    }
   ],
   "source": [
    "y_test[0:3]"
   ]
  },
  {
   "cell_type": "markdown",
   "metadata": {},
   "source": [
    "### 2.1.1 Applying a logistic regression model"
   ]
  },
  {
   "cell_type": "code",
   "execution_count": 108,
   "metadata": {},
   "outputs": [],
   "source": [
    "from sklearn.linear_model import LogisticRegression\n",
    "from sklearn.metrics import confusion_matrix, classification_report"
   ]
  },
  {
   "cell_type": "markdown",
   "metadata": {},
   "source": [
    "**Fit the model on  training data**"
   ]
  },
  {
   "cell_type": "code",
   "execution_count": 196,
   "metadata": {},
   "outputs": [
    {
     "data": {
      "text/plain": [
       "LogisticRegression(C=1.0, class_weight=None, dual=False, fit_intercept=True,\n",
       "          intercept_scaling=1, max_iter=100, multi_class='warn',\n",
       "          n_jobs=None, penalty='l2', random_state=0, solver='warn',\n",
       "          tol=0.0001, verbose=0, warm_start=False)"
      ]
     },
     "execution_count": 196,
     "metadata": {},
     "output_type": "execute_result"
    }
   ],
   "source": [
    "logr = LogisticRegression(random_state=0)\n",
    "logr.fit(X_train, y_train)"
   ]
  },
  {
   "cell_type": "markdown",
   "metadata": {},
   "source": [
    "**Predictions on Training Data**"
   ]
  },
  {
   "cell_type": "code",
   "execution_count": 197,
   "metadata": {},
   "outputs": [
    {
     "data": {
      "text/html": [
       "<div>\n",
       "<style scoped>\n",
       "    .dataframe tbody tr th:only-of-type {\n",
       "        vertical-align: middle;\n",
       "    }\n",
       "\n",
       "    .dataframe tbody tr th {\n",
       "        vertical-align: top;\n",
       "    }\n",
       "\n",
       "    .dataframe thead th {\n",
       "        text-align: right;\n",
       "    }\n",
       "</style>\n",
       "<table border=\"1\" class=\"dataframe\">\n",
       "  <thead>\n",
       "    <tr style=\"text-align: right;\">\n",
       "      <th></th>\n",
       "      <th>10</th>\n",
       "      <th>12</th>\n",
       "      <th>13</th>\n",
       "      <th>15</th>\n",
       "      <th>15pm</th>\n",
       "      <th>17</th>\n",
       "      <th>18th</th>\n",
       "      <th>1928</th>\n",
       "      <th>1947</th>\n",
       "      <th>1948</th>\n",
       "      <th>...</th>\n",
       "      <th>yelps</th>\n",
       "      <th>yes</th>\n",
       "      <th>young</th>\n",
       "      <th>younger</th>\n",
       "      <th>youthful</th>\n",
       "      <th>youtube</th>\n",
       "      <th>yun</th>\n",
       "      <th>zillion</th>\n",
       "      <th>zombie</th>\n",
       "      <th>zombiez</th>\n",
       "    </tr>\n",
       "  </thead>\n",
       "  <tbody>\n",
       "    <tr>\n",
       "      <th>R97</th>\n",
       "      <td>0</td>\n",
       "      <td>0</td>\n",
       "      <td>0</td>\n",
       "      <td>0</td>\n",
       "      <td>0</td>\n",
       "      <td>0</td>\n",
       "      <td>0</td>\n",
       "      <td>0</td>\n",
       "      <td>0</td>\n",
       "      <td>0</td>\n",
       "      <td>...</td>\n",
       "      <td>0</td>\n",
       "      <td>0</td>\n",
       "      <td>0</td>\n",
       "      <td>0</td>\n",
       "      <td>0</td>\n",
       "      <td>0</td>\n",
       "      <td>0</td>\n",
       "      <td>0</td>\n",
       "      <td>0</td>\n",
       "      <td>0</td>\n",
       "    </tr>\n",
       "    <tr>\n",
       "      <th>R516</th>\n",
       "      <td>0</td>\n",
       "      <td>0</td>\n",
       "      <td>0</td>\n",
       "      <td>0</td>\n",
       "      <td>0</td>\n",
       "      <td>0</td>\n",
       "      <td>0</td>\n",
       "      <td>0</td>\n",
       "      <td>0</td>\n",
       "      <td>0</td>\n",
       "      <td>...</td>\n",
       "      <td>0</td>\n",
       "      <td>0</td>\n",
       "      <td>0</td>\n",
       "      <td>0</td>\n",
       "      <td>0</td>\n",
       "      <td>0</td>\n",
       "      <td>0</td>\n",
       "      <td>0</td>\n",
       "      <td>0</td>\n",
       "      <td>0</td>\n",
       "    </tr>\n",
       "    <tr>\n",
       "      <th>R156</th>\n",
       "      <td>0</td>\n",
       "      <td>0</td>\n",
       "      <td>0</td>\n",
       "      <td>0</td>\n",
       "      <td>0</td>\n",
       "      <td>0</td>\n",
       "      <td>0</td>\n",
       "      <td>0</td>\n",
       "      <td>0</td>\n",
       "      <td>0</td>\n",
       "      <td>...</td>\n",
       "      <td>0</td>\n",
       "      <td>0</td>\n",
       "      <td>0</td>\n",
       "      <td>0</td>\n",
       "      <td>0</td>\n",
       "      <td>0</td>\n",
       "      <td>0</td>\n",
       "      <td>0</td>\n",
       "      <td>0</td>\n",
       "      <td>0</td>\n",
       "    </tr>\n",
       "  </tbody>\n",
       "</table>\n",
       "<p>3 rows × 2811 columns</p>\n",
       "</div>"
      ],
      "text/plain": [
       "      10  12  13  15  15pm  17  18th  1928  1947  1948   ...     yelps  yes  \\\n",
       "R97    0   0   0   0     0   0     0     0     0     0   ...         0    0   \n",
       "R516   0   0   0   0     0   0     0     0     0     0   ...         0    0   \n",
       "R156   0   0   0   0     0   0     0     0     0     0   ...         0    0   \n",
       "\n",
       "      young  younger  youthful  youtube  yun  zillion  zombie  zombiez  \n",
       "R97       0        0         0        0    0        0       0        0  \n",
       "R516      0        0         0        0    0        0       0        0  \n",
       "R156      0        0         0        0    0        0       0        0  \n",
       "\n",
       "[3 rows x 2811 columns]"
      ]
     },
     "execution_count": 197,
     "metadata": {},
     "output_type": "execute_result"
    }
   ],
   "source": [
    "X_train.head(3)"
   ]
  },
  {
   "cell_type": "code",
   "execution_count": 198,
   "metadata": {},
   "outputs": [
    {
     "data": {
      "text/plain": [
       "R97     0\n",
       "R516    1\n",
       "R156    1\n",
       "dtype: int64"
      ]
     },
     "execution_count": 198,
     "metadata": {},
     "output_type": "execute_result"
    }
   ],
   "source": [
    "ypred_train = logr.predict(X_train)\n",
    "ypred_train = pd.Series(ypred_train, index=y_train.index)\n",
    "ypred_train[0:3]"
   ]
  },
  {
   "cell_type": "code",
   "execution_count": 199,
   "metadata": {},
   "outputs": [
    {
     "data": {
      "text/plain": [
       "'I hate movies like that.  '"
      ]
     },
     "execution_count": 199,
     "metadata": {},
     "output_type": "execute_result"
    }
   ],
   "source": [
    "imdb['Review']['R97']"
   ]
  },
  {
   "cell_type": "code",
   "execution_count": 200,
   "metadata": {},
   "outputs": [
    {
     "data": {
      "text/plain": [
       "'The writers were \"smack on\" and I think the best actors and actresses were a bonus to the show.These characters were so real.  '"
      ]
     },
     "execution_count": 200,
     "metadata": {},
     "output_type": "execute_result"
    }
   ],
   "source": [
    "imdb['Review']['R156']"
   ]
  },
  {
   "cell_type": "markdown",
   "metadata": {},
   "source": [
    "**Confusion_matrix and accuracy scores on training data**"
   ]
  },
  {
   "cell_type": "code",
   "execution_count": 201,
   "metadata": {},
   "outputs": [
    {
     "name": "stdout",
     "output_type": "stream",
     "text": [
      "[[271   7]\n",
      " [  3 317]]\n",
      "0.9832775919732442\n"
     ]
    }
   ],
   "source": [
    "print (confusion_matrix(y_train, ypred_train))\n",
    "print (logr.score(X_train, y_train))"
   ]
  },
  {
   "cell_type": "code",
   "execution_count": 202,
   "metadata": {},
   "outputs": [
    {
     "name": "stdout",
     "output_type": "stream",
     "text": [
      "              precision    recall  f1-score   support\n",
      "\n",
      "           0       0.99      0.97      0.98       278\n",
      "           1       0.98      0.99      0.98       320\n",
      "\n",
      "   micro avg       0.98      0.98      0.98       598\n",
      "   macro avg       0.98      0.98      0.98       598\n",
      "weighted avg       0.98      0.98      0.98       598\n",
      "\n"
     ]
    }
   ],
   "source": [
    "print (classification_report(y_train, ypred_train))"
   ]
  },
  {
   "cell_type": "markdown",
   "metadata": {},
   "source": [
    "**Lets see how the model is making predictions on the test data**"
   ]
  },
  {
   "cell_type": "code",
   "execution_count": 203,
   "metadata": {},
   "outputs": [
    {
     "data": {
      "text/html": [
       "<div>\n",
       "<style scoped>\n",
       "    .dataframe tbody tr th:only-of-type {\n",
       "        vertical-align: middle;\n",
       "    }\n",
       "\n",
       "    .dataframe tbody tr th {\n",
       "        vertical-align: top;\n",
       "    }\n",
       "\n",
       "    .dataframe thead th {\n",
       "        text-align: right;\n",
       "    }\n",
       "</style>\n",
       "<table border=\"1\" class=\"dataframe\">\n",
       "  <thead>\n",
       "    <tr style=\"text-align: right;\">\n",
       "      <th></th>\n",
       "      <th>10</th>\n",
       "      <th>12</th>\n",
       "      <th>13</th>\n",
       "      <th>15</th>\n",
       "      <th>15pm</th>\n",
       "      <th>17</th>\n",
       "      <th>18th</th>\n",
       "      <th>1928</th>\n",
       "      <th>1947</th>\n",
       "      <th>1948</th>\n",
       "      <th>...</th>\n",
       "      <th>yelps</th>\n",
       "      <th>yes</th>\n",
       "      <th>young</th>\n",
       "      <th>younger</th>\n",
       "      <th>youthful</th>\n",
       "      <th>youtube</th>\n",
       "      <th>yun</th>\n",
       "      <th>zillion</th>\n",
       "      <th>zombie</th>\n",
       "      <th>zombiez</th>\n",
       "    </tr>\n",
       "  </thead>\n",
       "  <tbody>\n",
       "    <tr>\n",
       "      <th>R258</th>\n",
       "      <td>0</td>\n",
       "      <td>0</td>\n",
       "      <td>0</td>\n",
       "      <td>0</td>\n",
       "      <td>0</td>\n",
       "      <td>0</td>\n",
       "      <td>0</td>\n",
       "      <td>0</td>\n",
       "      <td>0</td>\n",
       "      <td>0</td>\n",
       "      <td>...</td>\n",
       "      <td>0</td>\n",
       "      <td>0</td>\n",
       "      <td>0</td>\n",
       "      <td>0</td>\n",
       "      <td>0</td>\n",
       "      <td>0</td>\n",
       "      <td>0</td>\n",
       "      <td>0</td>\n",
       "      <td>0</td>\n",
       "      <td>0</td>\n",
       "    </tr>\n",
       "    <tr>\n",
       "      <th>R521</th>\n",
       "      <td>0</td>\n",
       "      <td>0</td>\n",
       "      <td>0</td>\n",
       "      <td>0</td>\n",
       "      <td>0</td>\n",
       "      <td>0</td>\n",
       "      <td>0</td>\n",
       "      <td>0</td>\n",
       "      <td>0</td>\n",
       "      <td>0</td>\n",
       "      <td>...</td>\n",
       "      <td>0</td>\n",
       "      <td>0</td>\n",
       "      <td>0</td>\n",
       "      <td>0</td>\n",
       "      <td>0</td>\n",
       "      <td>0</td>\n",
       "      <td>0</td>\n",
       "      <td>0</td>\n",
       "      <td>0</td>\n",
       "      <td>0</td>\n",
       "    </tr>\n",
       "    <tr>\n",
       "      <th>R14</th>\n",
       "      <td>0</td>\n",
       "      <td>0</td>\n",
       "      <td>0</td>\n",
       "      <td>0</td>\n",
       "      <td>0</td>\n",
       "      <td>0</td>\n",
       "      <td>0</td>\n",
       "      <td>0</td>\n",
       "      <td>0</td>\n",
       "      <td>0</td>\n",
       "      <td>...</td>\n",
       "      <td>0</td>\n",
       "      <td>0</td>\n",
       "      <td>0</td>\n",
       "      <td>0</td>\n",
       "      <td>0</td>\n",
       "      <td>0</td>\n",
       "      <td>0</td>\n",
       "      <td>0</td>\n",
       "      <td>0</td>\n",
       "      <td>0</td>\n",
       "    </tr>\n",
       "  </tbody>\n",
       "</table>\n",
       "<p>3 rows × 2811 columns</p>\n",
       "</div>"
      ],
      "text/plain": [
       "      10  12  13  15  15pm  17  18th  1928  1947  1948   ...     yelps  yes  \\\n",
       "R258   0   0   0   0     0   0     0     0     0     0   ...         0    0   \n",
       "R521   0   0   0   0     0   0     0     0     0     0   ...         0    0   \n",
       "R14    0   0   0   0     0   0     0     0     0     0   ...         0    0   \n",
       "\n",
       "      young  younger  youthful  youtube  yun  zillion  zombie  zombiez  \n",
       "R258      0        0         0        0    0        0       0        0  \n",
       "R521      0        0         0        0    0        0       0        0  \n",
       "R14       0        0         0        0    0        0       0        0  \n",
       "\n",
       "[3 rows x 2811 columns]"
      ]
     },
     "execution_count": 203,
     "metadata": {},
     "output_type": "execute_result"
    }
   ],
   "source": [
    "X_test.head(3)"
   ]
  },
  {
   "cell_type": "markdown",
   "metadata": {},
   "source": [
    "**Predictions on Test Data**"
   ]
  },
  {
   "cell_type": "code",
   "execution_count": 204,
   "metadata": {},
   "outputs": [
    {
     "data": {
      "text/plain": [
       "R258    1\n",
       "R521    1\n",
       "R14     1\n",
       "R31     1\n",
       "R505    0\n",
       "dtype: int64"
      ]
     },
     "execution_count": 204,
     "metadata": {},
     "output_type": "execute_result"
    }
   ],
   "source": [
    "ypred_test = logr.predict(X_test)\n",
    "ypred_test = pd.Series(ypred_test, index = y_test.index)\n",
    "ypred_test.head(5)"
   ]
  },
  {
   "cell_type": "code",
   "execution_count": 205,
   "metadata": {},
   "outputs": [
    {
     "data": {
      "text/plain": [
       "'This film (and I use that word loosely) is an insult to the movie-going public.  '"
      ]
     },
     "execution_count": 205,
     "metadata": {},
     "output_type": "execute_result"
    }
   ],
   "source": [
    "imdb['Review']['R258']"
   ]
  },
  {
   "cell_type": "code",
   "execution_count": 206,
   "metadata": {},
   "outputs": [
    {
     "data": {
      "text/plain": [
       "'The results, well, are a shame.  '"
      ]
     },
     "execution_count": 206,
     "metadata": {},
     "output_type": "execute_result"
    }
   ],
   "source": [
    "imdb['Review']['R505']"
   ]
  },
  {
   "cell_type": "markdown",
   "metadata": {},
   "source": [
    "**Confusion_matrix and accuracy scores on test data**"
   ]
  },
  {
   "cell_type": "code",
   "execution_count": 207,
   "metadata": {},
   "outputs": [
    {
     "name": "stdout",
     "output_type": "stream",
     "text": [
      "[[56 28]\n",
      " [ 8 58]]\n",
      "0.76\n"
     ]
    }
   ],
   "source": [
    "print (confusion_matrix(y_test, ypred_test))\n",
    "print (logr.score(X_test, y_test))"
   ]
  },
  {
   "cell_type": "code",
   "execution_count": 208,
   "metadata": {},
   "outputs": [
    {
     "name": "stdout",
     "output_type": "stream",
     "text": [
      "              precision    recall  f1-score   support\n",
      "\n",
      "           0       0.88      0.67      0.76        84\n",
      "           1       0.67      0.88      0.76        66\n",
      "\n",
      "   micro avg       0.76      0.76      0.76       150\n",
      "   macro avg       0.77      0.77      0.76       150\n",
      "weighted avg       0.79      0.76      0.76       150\n",
      "\n"
     ]
    }
   ],
   "source": [
    "print (classification_report(y_test, ypred_test))"
   ]
  },
  {
   "cell_type": "markdown",
   "metadata": {},
   "source": [
    "## 3. TFIDF"
   ]
  },
  {
   "cell_type": "code",
   "execution_count": 209,
   "metadata": {},
   "outputs": [],
   "source": [
    "from sklearn.feature_extraction.text import TfidfTransformer"
   ]
  },
  {
   "cell_type": "code",
   "execution_count": 210,
   "metadata": {},
   "outputs": [],
   "source": [
    "tfidf = TfidfTransformer()\n",
    "words_tfidf = tfidf.fit_transform(words_bow_df)"
   ]
  },
  {
   "cell_type": "code",
   "execution_count": 211,
   "metadata": {},
   "outputs": [
    {
     "data": {
      "text/plain": [
       "(748, 2811)"
      ]
     },
     "execution_count": 211,
     "metadata": {},
     "output_type": "execute_result"
    }
   ],
   "source": [
    "words_tfidf.shape"
   ]
  },
  {
   "cell_type": "markdown",
   "metadata": {},
   "source": [
    "**Lets see how this tfidf sparse matrix looks like**"
   ]
  },
  {
   "cell_type": "code",
   "execution_count": 212,
   "metadata": {},
   "outputs": [
    {
     "name": "stdout",
     "output_type": "stream",
     "text": [
      "  (0, 2803)\t0.357813539994641\n",
      "  (0, 2233)\t0.3377788769496005\n",
      "  (0, 1627)\t0.357813539994641\n",
      "  (0, 1625)\t0.1620112817321219\n",
      "  (0, 1524)\t0.30568525346650793\n",
      "  (0, 732)\t0.41237250226961275\n",
      "  (0, 697)\t0.41237250226961275\n",
      "  (0, 87)\t0.41237250226961275\n"
     ]
    }
   ],
   "source": [
    "print (words_tfidf[0,:]) # its tf-idf values instead of just counts"
   ]
  },
  {
   "cell_type": "code",
   "execution_count": 213,
   "metadata": {},
   "outputs": [
    {
     "data": {
      "text/plain": [
       "array([[0., 0., 0., ..., 0., 0., 0.],\n",
       "       [0., 0., 0., ..., 0., 0., 0.],\n",
       "       [0., 0., 0., ..., 0., 0., 0.],\n",
       "       ...,\n",
       "       [0., 0., 0., ..., 0., 0., 0.],\n",
       "       [0., 0., 0., ..., 0., 0., 0.],\n",
       "       [0., 0., 0., ..., 0., 0., 0.]])"
      ]
     },
     "execution_count": 213,
     "metadata": {},
     "output_type": "execute_result"
    }
   ],
   "source": [
    "words_tfidf.toarray() # we can convert this to a data frame if we want"
   ]
  },
  {
   "cell_type": "markdown",
   "metadata": {},
   "source": [
    "### 3.1 Apply ML model to words_tfidf instead of bag of words"
   ]
  },
  {
   "cell_type": "code",
   "execution_count": 214,
   "metadata": {},
   "outputs": [],
   "source": [
    "from sklearn.model_selection import train_test_split"
   ]
  },
  {
   "cell_type": "code",
   "execution_count": 215,
   "metadata": {},
   "outputs": [],
   "source": [
    "X_train_tf, X_test_tf, y_train_tf, y_test_tf = train_test_split(words_tfidf,imdb['Sentiment'], test_size = 0.2, random_state=0)"
   ]
  },
  {
   "cell_type": "code",
   "execution_count": 216,
   "metadata": {},
   "outputs": [
    {
     "data": {
      "text/plain": [
       "(598, 2811)"
      ]
     },
     "execution_count": 216,
     "metadata": {},
     "output_type": "execute_result"
    }
   ],
   "source": [
    "X_train_tf.shape"
   ]
  },
  {
   "cell_type": "code",
   "execution_count": 217,
   "metadata": {},
   "outputs": [
    {
     "data": {
      "text/plain": [
       "(150, 2811)"
      ]
     },
     "execution_count": 217,
     "metadata": {},
     "output_type": "execute_result"
    }
   ],
   "source": [
    "X_test_tf.shape"
   ]
  },
  {
   "cell_type": "markdown",
   "metadata": {},
   "source": [
    "### Applying a logistic regression model"
   ]
  },
  {
   "cell_type": "code",
   "execution_count": 218,
   "metadata": {},
   "outputs": [],
   "source": [
    "from sklearn.linear_model import LogisticRegression\n",
    "from sklearn.metrics import confusion_matrix, classification_report"
   ]
  },
  {
   "cell_type": "markdown",
   "metadata": {},
   "source": [
    "**Fit the model on  training data**"
   ]
  },
  {
   "cell_type": "code",
   "execution_count": 219,
   "metadata": {},
   "outputs": [
    {
     "name": "stderr",
     "output_type": "stream",
     "text": [
      "C:\\Users\\sridh\\AppData\\Local\\Continuum\\anaconda3\\lib\\site-packages\\sklearn\\linear_model\\logistic.py:433: FutureWarning: Default solver will be changed to 'lbfgs' in 0.22. Specify a solver to silence this warning.\n",
      "  FutureWarning)\n"
     ]
    },
    {
     "data": {
      "text/plain": [
       "LogisticRegression(C=1.0, class_weight=None, dual=False, fit_intercept=True,\n",
       "          intercept_scaling=1, max_iter=100, multi_class='warn',\n",
       "          n_jobs=None, penalty='l2', random_state=None, solver='warn',\n",
       "          tol=0.0001, verbose=0, warm_start=False)"
      ]
     },
     "execution_count": 219,
     "metadata": {},
     "output_type": "execute_result"
    }
   ],
   "source": [
    "logr_tf = LogisticRegression()\n",
    "logr_tf.fit(X_train_tf, y_train_tf)"
   ]
  },
  {
   "cell_type": "markdown",
   "metadata": {},
   "source": [
    "**Predictions, Confusion_matrix and accuracy scores on training data**"
   ]
  },
  {
   "cell_type": "code",
   "execution_count": 220,
   "metadata": {},
   "outputs": [
    {
     "data": {
      "text/plain": [
       "array([0, 1, 1, 1, 1, 1, 0, 1, 1, 1], dtype=int64)"
      ]
     },
     "execution_count": 220,
     "metadata": {},
     "output_type": "execute_result"
    }
   ],
   "source": [
    "ypred_train_tf = logr_tf.predict(X_train_tf)\n",
    "ypred_train_tf[0:10]"
   ]
  },
  {
   "cell_type": "code",
   "execution_count": 221,
   "metadata": {},
   "outputs": [
    {
     "name": "stdout",
     "output_type": "stream",
     "text": [
      "[[262  16]\n",
      " [  3 317]]\n",
      "0.9682274247491639\n"
     ]
    }
   ],
   "source": [
    "print (confusion_matrix(y_train_tf, ypred_train_tf))\n",
    "print (logr_tf.score(X_train_tf, y_train_tf))"
   ]
  },
  {
   "cell_type": "code",
   "execution_count": 222,
   "metadata": {},
   "outputs": [
    {
     "name": "stdout",
     "output_type": "stream",
     "text": [
      "              precision    recall  f1-score   support\n",
      "\n",
      "           0       0.99      0.94      0.97       278\n",
      "           1       0.95      0.99      0.97       320\n",
      "\n",
      "   micro avg       0.97      0.97      0.97       598\n",
      "   macro avg       0.97      0.97      0.97       598\n",
      "weighted avg       0.97      0.97      0.97       598\n",
      "\n"
     ]
    }
   ],
   "source": [
    "print (classification_report(y_train_tf, ypred_train_tf))"
   ]
  },
  {
   "cell_type": "markdown",
   "metadata": {},
   "source": [
    "**Predictions, Confusion_matrix and accuracy scores on test data**"
   ]
  },
  {
   "cell_type": "code",
   "execution_count": 223,
   "metadata": {},
   "outputs": [
    {
     "name": "stdout",
     "output_type": "stream",
     "text": [
      "[[37 47]\n",
      " [ 4 62]]\n",
      "0.66\n"
     ]
    }
   ],
   "source": [
    "ypred_test_tf = logr_tf.predict(X_test_tf)\n",
    "print (confusion_matrix(y_test_tf, ypred_test_tf))\n",
    "print (logr_tf.score(X_test_tf, y_test_tf))"
   ]
  },
  {
   "cell_type": "code",
   "execution_count": 224,
   "metadata": {},
   "outputs": [
    {
     "name": "stdout",
     "output_type": "stream",
     "text": [
      "              precision    recall  f1-score   support\n",
      "\n",
      "           0       0.88      0.67      0.76        84\n",
      "           1       0.67      0.88      0.76        66\n",
      "\n",
      "   micro avg       0.76      0.76      0.76       150\n",
      "   macro avg       0.77      0.77      0.76       150\n",
      "weighted avg       0.79      0.76      0.76       150\n",
      "\n"
     ]
    }
   ],
   "source": [
    "print (classification_report(y_test, ypred_test))"
   ]
  },
  {
   "cell_type": "code",
   "execution_count": 226,
   "metadata": {},
   "outputs": [],
   "source": [
    "# Its actually worse with tfidf with this data set"
   ]
  }
 ],
 "metadata": {
  "kernelspec": {
   "display_name": "Python 3",
   "language": "python",
   "name": "python3"
  },
  "language_info": {
   "codemirror_mode": {
    "name": "ipython",
    "version": 3
   },
   "file_extension": ".py",
   "mimetype": "text/x-python",
   "name": "python",
   "nbconvert_exporter": "python",
   "pygments_lexer": "ipython3",
   "version": "3.7.1"
  }
 },
 "nbformat": 4,
 "nbformat_minor": 2
}
